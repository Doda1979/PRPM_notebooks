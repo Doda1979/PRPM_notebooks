{
 "cells": [
  {
   "cell_type": "markdown",
   "id": "3c9ceccf-2fd7-4342-b829-8acb17df159c",
   "metadata": {},
   "source": [
    "# Kelvin unit: compliance function & stress redistribution\n",
    "\n",
    "***\n",
    "\n",
    "<center><i>Petr Havlásek (c) 2023-24, petr.havlasek@cvut.cz</i></center>\n",
    "\n",
    "***\n"
   ]
  },
  {
   "cell_type": "code",
   "execution_count": 1,
   "id": "f2468cc1-837d-4005-8332-ad0124eea5cf",
   "metadata": {},
   "outputs": [],
   "source": [
    "online = False\n",
    "\n",
    "if (online):\n",
    "    import micropip\n",
    "    await micropip.install('ipywidgets')\n",
    "\n",
    "import math\n",
    "import numpy as np    \n",
    "    \n",
    "import matplotlib.pyplot as plt\n",
    "    \n",
    "import ipywidgets as widgets\n",
    "from ipywidgets import interact, interactive, fixed, interact_manual\n",
    "\n",
    "from IPython.display import display\n"
   ]
  },
  {
   "cell_type": "markdown",
   "id": "9baf3fdc-6579-4e0d-aa89-bb14835125d4",
   "metadata": {},
   "source": [
    "**Notation:**\n",
    "\n",
    ">`E` ... spring stiffness [MPa]<br>\n",
    "\n",
    ">`eta` ... dashpot viscosity [MPa day]<br>\n",
    "\n",
    ">`tau` ... retardation time [day] (=`eta/E`)<br>\n",
    "\n",
    ">`t` ... time of interest [day]<br>\n",
    "\n",
    ">`tt` ... time of loading [day]<br>"
   ]
  },
  {
   "cell_type": "markdown",
   "id": "a6a2f1e4-256d-4956-9b2b-c134082cd6a2",
   "metadata": {},
   "source": [
    "## Definition of a compliance function for Kelvin unit"
   ]
  },
  {
   "cell_type": "code",
   "execution_count": 2,
   "id": "71d24cae-b20e-4140-8e72-0e226268bc6d",
   "metadata": {},
   "outputs": [],
   "source": [
    "def Kelvin_J_func(E, eta, t, tt):\n",
    "\n",
    "    tau = eta / E\n",
    "\n",
    "    if t > tt:\n",
    "        dt = t-tt\n",
    "\n",
    "        if tau > 0.:\n",
    "            return 1./ E * ( 1. - math.exp(-(dt)/ tau) )\n",
    "        else:\n",
    "            return 1./ E\n",
    "            \n",
    "    else:\n",
    "        return 0.\n",
    "   "
   ]
  },
  {
   "cell_type": "markdown",
   "id": "e171be9b-417a-470d-b73d-7a5899d67e9e",
   "metadata": {
    "tags": []
   },
   "source": [
    "## Parameters definition"
   ]
  },
  {
   "cell_type": "code",
   "execution_count": 3,
   "id": "569ad7c5-ae01-42f6-9876-bb07f45b46d3",
   "metadata": {},
   "outputs": [],
   "source": [
    "# reference spring stiffness [MPa]\n",
    "E_ref = 1.\n",
    "# reference dashpot viscosity [MPa * day]\n",
    "eta_ref = 1.\n",
    "# reference retardation time\n",
    "tau_ref = eta_ref / E_ref\n",
    "\n",
    "# variables ranges: powers of 10\n",
    "# stiffness\n",
    "log_E_min = -3\n",
    "log_E_max = 3\n",
    "\n",
    "# viscosity\n",
    "log_eta_min = -3\n",
    "log_eta_max = 3\n",
    "\n",
    "log_tau_min = -2\n",
    "log_tau_max = 2\n",
    "\n",
    "# number of time steps\n",
    "t_div = 100"
   ]
  },
  {
   "cell_type": "markdown",
   "id": "a7c915e4-178f-43a5-9135-ee4cd7351420",
   "metadata": {},
   "source": [
    "## Compliance function"
   ]
  },
  {
   "cell_type": "code",
   "execution_count": 4,
   "id": "a6e6ab56-641d-413e-9af2-e73542563bc0",
   "metadata": {
    "tags": []
   },
   "outputs": [],
   "source": [
    "\n",
    "def plot_Kelvin_J_func(E, eta, log_scale = True, show_tau = False, show_reference = True):\n",
    "    \n",
    "    if (log_scale):\n",
    "        times = np.logspace(log_tau_min, log_tau_max, num = t_div )\n",
    "    else:\n",
    "        times = np.linspace(0., 10**log_tau_max, num = t_div )\n",
    "\n",
    "    ax.clear()\n",
    "        \n",
    "    # reference data with E_ref and eta_ref\n",
    "    if show_reference:\n",
    "        J_ref = []\n",
    "        for t in times:\n",
    "            J_ref.append( Kelvin_J_func(E_ref, eta_ref, t, 0.) )\n",
    "\n",
    "        ax.plot(times, J_ref, lw=1.5, color=\"red\", linestyle='dashed', label='Jref(t)')\n",
    "        \n",
    "        if (show_tau):\n",
    "            ax.axvline(x = tau_ref, lw=1.5, color=\"red\", linestyle = \"--\")\n",
    "\n",
    "    # data for user-defined parameters\n",
    "    J = []\n",
    "    for t in times:\n",
    "        J.append( Kelvin_J_func(E, eta, t, 0.) )\n",
    "    ax.plot(times, J, lw=2., color=\"blue\", label=r'J(t)')\n",
    "    if (show_tau):\n",
    "        ax.axvline(x = eta/E, lw=1.5, color=\"blue\", linestyle = \"--\")\n",
    "    \n",
    "    if (log_scale):\n",
    "        ax.set_xscale('log')\n",
    "        ax.set_xlim([10**log_tau_min, 10**log_tau_max])\n",
    "    else:\n",
    "        ax.set_xlim([0., 10**log_tau_max])\n",
    "\n",
    "\n",
    "    ax.grid(True)\n",
    "    ax.legend()\n",
    "    ax.set_xlabel('Duration of loading, t-t\\' [day]')\n",
    "    ax.set_ylabel('Compliance, J [1/MPa]')  \n",
    "    \n",
    "    display(fig)"
   ]
  },
  {
   "cell_type": "markdown",
   "id": "33f0dba5-b421-446c-95c2-4381ad75c26e",
   "metadata": {
    "tags": []
   },
   "source": [
    "### GUI for compliance function"
   ]
  },
  {
   "cell_type": "code",
   "execution_count": 5,
   "id": "6210373a-ffe8-45ed-b135-919a8c1ad19a",
   "metadata": {
    "tags": []
   },
   "outputs": [
    {
     "data": {
      "application/vnd.jupyter.widget-view+json": {
       "model_id": "ab081e752164453299a8fe720abab496",
       "version_major": 2,
       "version_minor": 0
      },
      "text/plain": [
       "interactive(children=(FloatLogSlider(value=1.0, description='E [MPa]', max=3.0, min=-3.0, step=0.25), FloatLog…"
      ]
     },
     "metadata": {},
     "output_type": "display_data"
    }
   ],
   "source": [
    "\n",
    "\n",
    "output = widgets.Output()\n",
    "\n",
    "fig, ax = plt.subplots(1, 1, figsize=(10,5))\n",
    "plt.rcParams.update({'font.size': 14})\n",
    "plt.close(fig)\n",
    "\n",
    "\n",
    "E_slide = widgets.FloatLogSlider(min=log_E_min, max=log_E_max, value=1., step=0.25, description='E [MPa]')\n",
    "eta_slide = widgets.FloatLogSlider(min=log_eta_min, max=log_eta_max, value=1., step=0.25, description='eta [MPa day]')\n",
    "\n",
    "aux = interactive(plot_Kelvin_J_func, E = E_slide, eta = eta_slide, log_scale = False, show_tau = False, show_reference = True)\n",
    "\n",
    "display(aux)\n"
   ]
  },
  {
   "cell_type": "markdown",
   "id": "a24df400-3ac8-40bd-bb31-5f1c5391b134",
   "metadata": {
    "tags": []
   },
   "source": [
    "## Stress redistribution under constant stress level"
   ]
  },
  {
   "cell_type": "code",
   "execution_count": 6,
   "id": "79427d1b-728f-439e-89e5-5f31d642a249",
   "metadata": {},
   "outputs": [],
   "source": [
    "def plot_Kelvin_stresses(E, eta, sigma, log_scale = True, show_tau = False, show_reference = True):\n",
    "\n",
    "    if (log_scale):\n",
    "        times = np.logspace(log_tau_min, log_tau_max, num = t_div )\n",
    "    else:\n",
    "        times = np.linspace(0., 10**log_tau_max, num = t_div )\n",
    "        \n",
    "    ax2.clear()        \n",
    "\n",
    "    # reference data with E_ref and eta_ref\n",
    "    if show_reference:\n",
    "        sig_e_ref = []\n",
    "        sig_v_ref = []\n",
    "        for t in times:\n",
    "            J_ref = Kelvin_J_func(E_ref, eta_ref, t, 0.)\n",
    "            eps_ref = sigma * J_ref\n",
    "            sig_e_ref.append( E_ref * eps_ref )\n",
    "            sig_v_ref.append( sigma - E_ref * eps_ref )\n",
    "\n",
    "        ax2.plot(times, sig_e_ref, lw=1.5, color=\"red\", linestyle='dashed', label='sig_e_ref(t)')\n",
    "        ax2.plot(times, sig_v_ref, lw=1.5, color=\"red\", linestyle='solid', label='sig_v_ref(t)')\n",
    "        \n",
    "        if (show_tau):\n",
    "            ax2.axvline(x = tau_ref, lw=1.5, color=\"red\", linestyle = \"--\")\n",
    "\n",
    "    # data for user-defined parameters\n",
    "    sig_e = []\n",
    "    sig_v = []\n",
    "    for t in times:\n",
    "        J = Kelvin_J_func(E, eta, t, 0.)\n",
    "        eps = sigma * J\n",
    "        sig_e.append( E * eps )\n",
    "        sig_v.append( sigma - E * eps )\n",
    "\n",
    "\n",
    "    ax2.plot(times, sig_e, lw=2.0, color=\"blue\", linestyle='dashed', label='sig_e(t)')\n",
    "    ax2.plot(times, sig_v, lw=2.0, color=\"blue\", linestyle='solid', label='sig_v(t)')\n",
    "    \n",
    "    if (show_tau):\n",
    "        ax2.axvline(x = eta/E, lw=1.5, color=\"blue\", linestyle = \"--\")\n",
    "    \n",
    "    if (log_scale):\n",
    "        ax2.set_xscale('log')\n",
    "        ax2.set_xlim([10**log_tau_min, 10**log_tau_max])\n",
    "    else:\n",
    "        ax2.set_xlim([0., 10**log_tau_max])\n",
    "\n",
    "\n",
    "    ax2.grid(True)\n",
    "    ax2.legend()\n",
    "    ax2.set_xlabel('Duration of loading, t-t\\' [day]')\n",
    "    ax2.set_ylabel('Stress, sigma [MPa]')\n",
    "    \n",
    "    display(fig2)\n"
   ]
  },
  {
   "cell_type": "markdown",
   "id": "01519d5d-1246-4f61-ac17-9bf0652edfd2",
   "metadata": {
    "tags": []
   },
   "source": [
    "## GUI for stress redistribution"
   ]
  },
  {
   "cell_type": "code",
   "execution_count": 7,
   "id": "7194e7c8-f77c-4d8f-8389-9de5e802c3a9",
   "metadata": {
    "tags": []
   },
   "outputs": [
    {
     "data": {
      "application/vnd.jupyter.widget-view+json": {
       "model_id": "eb67312bb41e4ba49dc548dee2dd6a44",
       "version_major": 2,
       "version_minor": 0
      },
      "text/plain": [
       "interactive(children=(FloatLogSlider(value=1.0, description='E [MPa]', max=3.0, min=-3.0, step=0.25), FloatLog…"
      ]
     },
     "metadata": {},
     "output_type": "display_data"
    }
   ],
   "source": [
    "output = widgets.Output()\n",
    "\n",
    "fig2, ax2 = plt.subplots(1, 1, figsize=(10,5))\n",
    "plt.rcParams.update({'font.size': 14})\n",
    "plt.close(fig2)\n",
    "\n",
    "\n",
    "E_slide = widgets.FloatLogSlider(min=log_E_min, max=log_E_max, value=1., step=0.25, description='E [MPa]')\n",
    "eta_slide = widgets.FloatLogSlider(min=log_eta_min, max=log_eta_max, value=1., step=0.25, description='eta [MPa day]')\n",
    "sigma_slide = widgets.FloatSlider(min=0., max=100., value=10., step=1., description='sigma [MPa]')\n",
    "\n",
    "aux = interactive(plot_Kelvin_stresses, E = E_slide, eta = eta_slide, sigma = sigma_slide, log_scale = False, show_tau = False, show_reference = True)\n",
    "\n",
    "display(aux)\n"
   ]
  }
 ],
 "metadata": {
  "kernelspec": {
   "display_name": "Python 3 (ipykernel)",
   "language": "python",
   "name": "python3"
  },
  "language_info": {
   "codemirror_mode": {
    "name": "ipython",
    "version": 3
   },
   "file_extension": ".py",
   "mimetype": "text/x-python",
   "name": "python",
   "nbconvert_exporter": "python",
   "pygments_lexer": "ipython3",
   "version": "3.12.5"
  }
 },
 "nbformat": 4,
 "nbformat_minor": 5
}
