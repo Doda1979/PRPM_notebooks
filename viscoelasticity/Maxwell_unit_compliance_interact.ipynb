{
 "cells": [
  {
   "cell_type": "markdown",
   "id": "8af8b7ba-48f0-47bd-83b2-d3331f521e30",
   "metadata": {},
   "source": [
    "# Maxwell unit: compliance function & evolution of deformation \n",
    "\n",
    "***\n",
    "\n",
    "<center><i>Petr Havlásek (c) 2023-24, petr.havlasek@cvut.cz</i></center>\n",
    "\n",
    "***"
   ]
  },
  {
   "cell_type": "code",
   "execution_count": 1,
   "id": "f2468cc1-837d-4005-8332-ad0124eea5cf",
   "metadata": {
    "tags": []
   },
   "outputs": [],
   "source": [
    "online = False\n",
    "\n",
    "if (online):\n",
    "    import micropip\n",
    "    await micropip.install('ipywidgets')\n",
    "\n",
    "import math\n",
    "import numpy as np    \n",
    "    \n",
    "import matplotlib.pyplot as plt\n",
    "    \n",
    "import ipywidgets as widgets\n",
    "from ipywidgets import interact, interactive, fixed, interact_manual\n",
    "\n",
    "from IPython.display import display\n"
   ]
  },
  {
   "cell_type": "markdown",
   "id": "1fa9f38a-1a20-4192-8304-b2011fe875df",
   "metadata": {},
   "source": [
    "## Compliance function of a Maxwell unit\n",
    "**Notation:**\n",
    "\n",
    ">`E` ... spring stiffness [MPa]<br>\n",
    "\n",
    ">`eta` ... dashpot viscosity [MPa day]<br>\n",
    "\n",
    ">`t` ... time of interest [day]<br>\n",
    "\n",
    ">`tt` ... time of loading [day]<br>"
   ]
  },
  {
   "cell_type": "code",
   "execution_count": 2,
   "id": "ed04cf73-c0b6-4a13-9869-e2ec22b21f6d",
   "metadata": {
    "tags": []
   },
   "outputs": [],
   "source": [
    "def Maxwell_J_func(E, eta, t, tt):\n",
    "\n",
    "    if t >= tt:\n",
    "        dt = t-tt\n",
    "\n",
    "        return 1./ E  + dt / eta\n",
    "            \n",
    "    else:\n",
    "        return 0."
   ]
  },
  {
   "cell_type": "markdown",
   "id": "539249e0-016d-4e91-a768-7081b49b425a",
   "metadata": {
    "tags": []
   },
   "source": [
    "## Parameters definition"
   ]
  },
  {
   "cell_type": "code",
   "execution_count": 3,
   "id": "569ad7c5-ae01-42f6-9876-bb07f45b46d3",
   "metadata": {
    "tags": []
   },
   "outputs": [],
   "source": [
    "# spring stiffness [MPa]\n",
    "E_ref = 1.\n",
    "# dashpot viscosity [MPa * day]\n",
    "eta_ref = 1.\n",
    "# reference relaxation time\n",
    "tau_ref = eta_ref / E_ref\n",
    "\n",
    "# variables ranges: powers of 10\n",
    "# stiffness\n",
    "log_E_min = -3\n",
    "log_E_max = 3\n",
    "\n",
    "# viscosity\n",
    "log_eta_min = -3\n",
    "log_eta_max = 3\n",
    "\n",
    "log_tau_min = -1\n",
    "log_tau_max = 1\n",
    "\n",
    "# number of time steps\n",
    "t_div = 100"
   ]
  },
  {
   "cell_type": "markdown",
   "id": "2221f412-c2f5-4823-a65e-9db12c54e0f8",
   "metadata": {},
   "source": [
    "## Compliance function"
   ]
  },
  {
   "cell_type": "code",
   "execution_count": 4,
   "id": "6210373a-ffe8-45ed-b135-919a8c1ad19a",
   "metadata": {
    "tags": []
   },
   "outputs": [],
   "source": [
    "\n",
    "def plot_Maxwell_J_func(E, eta, log_scale = True, show_tau = False, show_reference = True):\n",
    "\n",
    "    if (log_scale):\n",
    "        times = np.logspace(log_tau_min, log_tau_max, num = t_div )\n",
    "    else:\n",
    "        times = np.linspace(0., 10**log_tau_max, num = t_div )\n",
    "        \n",
    "    ax.clear()\n",
    "\n",
    "    # reference data with E_ref and eta_ref\n",
    "    if show_reference:\n",
    "        J_ref = []\n",
    "        for t in times:\n",
    "            J_ref.append( Maxwell_J_func(E_ref, eta_ref, t, 0.) )\n",
    "\n",
    "        ax.plot(times, J_ref, lw=1.5, color=\"red\", linestyle='dashed', label='Jref(t)')\n",
    "        \n",
    "        if (show_tau):\n",
    "            ax.axvline(x = tau_ref, lw=1.5, color=\"red\", linestyle = \"--\")\n",
    "\n",
    "    # data for user-defined parameters\n",
    "    J = []\n",
    "    for t in times:\n",
    "        J.append( Maxwell_J_func(E, eta, t, 0.) )\n",
    "    ax.plot(times, J, lw=2., color=\"blue\", label=r'J(t)')\n",
    "    if (show_tau):\n",
    "        ax.axvline(x = eta/E, lw=1.5, color=\"blue\", linestyle = \"--\")\n",
    "    \n",
    "    if (log_scale):\n",
    "        ax.set_xscale('log')\n",
    "        ax.set_xlim([10**log_tau_min, 10**log_tau_max])\n",
    "    else:\n",
    "        ax.set_xlim([0., 10**log_tau_max])\n",
    "\n",
    "    ax.grid(True)\n",
    "    ax.legend()\n",
    "    ax.set_xlabel('Duration of loading, t-t\\' [day]')\n",
    "    ax.set_ylabel('Compliance, J [1/MPa]')  \n",
    "    \n",
    "    display(fig)"
   ]
  },
  {
   "cell_type": "markdown",
   "id": "3cdab736-343d-4d30-ad14-78ec70325db5",
   "metadata": {
    "tags": []
   },
   "source": [
    "### GUI for compliance function"
   ]
  },
  {
   "cell_type": "code",
   "execution_count": 5,
   "id": "705b7016-3447-42fa-bf2c-0ce820c53b6f",
   "metadata": {
    "tags": []
   },
   "outputs": [
    {
     "data": {
      "application/vnd.jupyter.widget-view+json": {
       "model_id": "9c633f8206f74f079aee48a61a6e686a",
       "version_major": 2,
       "version_minor": 0
      },
      "text/plain": [
       "interactive(children=(FloatLogSlider(value=1.0, description='E [MPa]', max=3.0, min=-3.0, step=0.25), FloatLog…"
      ]
     },
     "metadata": {},
     "output_type": "display_data"
    }
   ],
   "source": [
    "\n",
    "\n",
    "output = widgets.Output()\n",
    "\n",
    "fig, ax = plt.subplots(1, 1, figsize=(10,5))\n",
    "plt.rcParams.update({'font.size': 14})\n",
    "plt.close(fig)\n",
    "\n",
    "\n",
    "E_slide = widgets.FloatLogSlider(min=log_E_min, max=log_E_max, value=1., step=0.25, description='E [MPa]')\n",
    "eta_slide = widgets.FloatLogSlider(min=log_eta_min, max=log_eta_max, value=1., step=0.25, description='eta [MPa day]')\n",
    "\n",
    "aux = interactive(plot_Maxwell_J_func, E = E_slide, eta = eta_slide, log_scale = False, show_tau = False, show_reference = True)\n",
    "\n",
    "display(aux)\n"
   ]
  },
  {
   "cell_type": "markdown",
   "id": "bb2bf8e7-6218-4e11-9a57-8b29c2b5602a",
   "metadata": {
    "tags": []
   },
   "source": [
    "## Strain evolution under constant stress level"
   ]
  },
  {
   "cell_type": "code",
   "execution_count": 10,
   "id": "79427d1b-728f-439e-89e5-5f31d642a249",
   "metadata": {
    "tags": []
   },
   "outputs": [],
   "source": [
    "def plot_Maxwell_deformation(E, eta, sigma, log_scale = True, show_tau = False, show_reference = True):\n",
    "\n",
    "    if (log_scale):\n",
    "        times = np.logspace(log_tau_min, log_tau_max, num = t_div )\n",
    "    else:\n",
    "        times = np.linspace(0., 10**log_tau_max, num = t_div )\n",
    "\n",
    "    ax2.clear()        \n",
    "\n",
    "    # reference data with E_ref and eta_ref\n",
    "    if show_reference:\n",
    "        eps_e_ref = []\n",
    "        eps_v_ref = []\n",
    "        for t in times:\n",
    "            eps_e_ref.append( sigma / E_ref  )\n",
    "            eps_v_ref.append( sigma * t / eta_ref )\n",
    "\n",
    "        ax2.plot(times, eps_e_ref, lw=1.5, color=\"red\", linestyle='dashed', label='eps_e_ref(t)')\n",
    "        ax2.plot(times, eps_v_ref, lw=1.5, color=\"red\", linestyle='solid', label='eps_v_ref(t)')\n",
    "        \n",
    "        if (show_tau):\n",
    "            ax2.axvline(x = tau_ref, lw=1.5, color=\"red\", linestyle = \"--\")\n",
    "\n",
    "    # data for user-defined parameters\n",
    "    eps_e = []\n",
    "    eps_v = []\n",
    "    for t in times:\n",
    "        eps_e.append( sigma / E  )\n",
    "        eps_v.append( sigma * t / eta )\n",
    "\n",
    "    ax2.plot(times, eps_e, lw=2.0, color=\"blue\", linestyle='dashed', label='eps_e(t)')\n",
    "    ax2.plot(times, eps_v, lw=2.0, color=\"blue\", linestyle='solid', label='eps_v(t)')\n",
    "    \n",
    "    if (show_tau):\n",
    "        ax2.axvline(x = eta/E, lw=1.5, color=\"blue\", linestyle = \"--\")\n",
    "    \n",
    "    if (log_scale):\n",
    "        ax2.set_xscale('log')\n",
    "        ax2.set_xlim([10**log_tau_min, 10**log_tau_max])\n",
    "    else:\n",
    "        ax2.set_xlim([0., 10**log_tau_max])\n",
    "\n",
    "\n",
    "    ax2.grid(True)\n",
    "    ax2.legend()\n",
    "    ax2.set_xlabel('Duration of loading, t-t\\' [day]')\n",
    "    ax2.set_ylabel('Deformation, epsilon [$10^{-6}$]')\n",
    "    \n",
    "    display(fig2)"
   ]
  },
  {
   "cell_type": "code",
   "execution_count": 11,
   "id": "7194e7c8-f77c-4d8f-8389-9de5e802c3a9",
   "metadata": {},
   "outputs": [],
   "source": [
    "## GUI for strain evolution"
   ]
  },
  {
   "cell_type": "code",
   "execution_count": 12,
   "id": "1cb03915-c25b-400f-9eaa-99d7f8988a4e",
   "metadata": {
    "tags": []
   },
   "outputs": [
    {
     "data": {
      "application/vnd.jupyter.widget-view+json": {
       "model_id": "4cc78a550caa4ca18a5ba664d5b7e643",
       "version_major": 2,
       "version_minor": 0
      },
      "text/plain": [
       "interactive(children=(FloatLogSlider(value=1.0, description='E [MPa]', max=3.0, min=-3.0, step=0.25), FloatLog…"
      ]
     },
     "metadata": {},
     "output_type": "display_data"
    }
   ],
   "source": [
    "output = widgets.Output()\n",
    "\n",
    "fig2, ax2 = plt.subplots(1, 1, figsize=(10,5))\n",
    "plt.rcParams.update({'font.size': 14})\n",
    "plt.close(fig2)\n",
    "\n",
    "## GUI\n",
    "E_slide = widgets.FloatLogSlider(min=log_E_min, max=log_E_max, value=1., step=0.25, description='E [MPa]')\n",
    "eta_slide = widgets.FloatLogSlider(min=log_eta_min, max=log_eta_max, value=1., step=0.25, description='eta [MPa day]')\n",
    "sigma_slide = widgets.FloatSlider(min=0., max=100., value=10., step=1., description='sigma [MPa]')\n",
    "\n",
    "aux = interactive(plot_Maxwell_deformation, E = E_slide, eta = eta_slide, sigma = sigma_slide, log_scale = False, show_tau = False, show_reference = True)\n",
    "\n",
    "display(aux)\n"
   ]
  },
  {
   "cell_type": "code",
   "execution_count": null,
   "id": "31b3194b-085c-4c3b-9526-279d4ed6f4da",
   "metadata": {},
   "outputs": [],
   "source": []
  }
 ],
 "metadata": {
  "kernelspec": {
   "display_name": "Python 3 (ipykernel)",
   "language": "python",
   "name": "python3"
  },
  "language_info": {
   "codemirror_mode": {
    "name": "ipython",
    "version": 3
   },
   "file_extension": ".py",
   "mimetype": "text/x-python",
   "name": "python",
   "nbconvert_exporter": "python",
   "pygments_lexer": "ipython3",
   "version": "3.12.5"
  }
 },
 "nbformat": 4,
 "nbformat_minor": 5
}
