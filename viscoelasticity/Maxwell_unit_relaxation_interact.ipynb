{
 "cells": [
  {
   "cell_type": "markdown",
   "id": "169c27d2-9eb3-488a-9329-59cd9e58e9a3",
   "metadata": {},
   "source": [
    "# Maxwell unit: relaxation function & strain redistribution\n",
    "\n",
    "***\n",
    "\n",
    "<center><i>Petr Havlásek (c) 2023, petr.havlasek@cvut.cz</i></center>\n",
    "\n",
    "***"
   ]
  },
  {
   "cell_type": "code",
   "execution_count": 7,
   "id": "f2468cc1-837d-4005-8332-ad0124eea5cf",
   "metadata": {
    "tags": []
   },
   "outputs": [
    {
     "ename": "ModuleNotFoundError",
     "evalue": "No module named 'micropip'",
     "output_type": "error",
     "traceback": [
      "\u001b[0;31m---------------------------------------------------------------------------\u001b[0m",
      "\u001b[0;31mModuleNotFoundError\u001b[0m                       Traceback (most recent call last)",
      "\u001b[0;32m/tmp/ipykernel_88488/2125626391.py\u001b[0m in \u001b[0;36m<module>\u001b[0;34m\u001b[0m\n\u001b[1;32m      2\u001b[0m \u001b[0;34m\u001b[0m\u001b[0m\n\u001b[1;32m      3\u001b[0m \u001b[0;32mif\u001b[0m \u001b[0;34m(\u001b[0m\u001b[0monline\u001b[0m\u001b[0;34m)\u001b[0m\u001b[0;34m:\u001b[0m\u001b[0;34m\u001b[0m\u001b[0;34m\u001b[0m\u001b[0m\n\u001b[0;32m----> 4\u001b[0;31m     \u001b[0;32mimport\u001b[0m \u001b[0mmicropip\u001b[0m\u001b[0;34m\u001b[0m\u001b[0;34m\u001b[0m\u001b[0m\n\u001b[0m\u001b[1;32m      5\u001b[0m     \u001b[0;32mawait\u001b[0m \u001b[0mmicropip\u001b[0m\u001b[0;34m.\u001b[0m\u001b[0minstall\u001b[0m\u001b[0;34m(\u001b[0m\u001b[0;34m'ipywidgets'\u001b[0m\u001b[0;34m)\u001b[0m\u001b[0;34m\u001b[0m\u001b[0;34m\u001b[0m\u001b[0m\n\u001b[1;32m      6\u001b[0m \u001b[0;34m\u001b[0m\u001b[0m\n",
      "\u001b[0;31mModuleNotFoundError\u001b[0m: No module named 'micropip'"
     ]
    }
   ],
   "source": [
    "online = True\n",
    "\n",
    "if (online):\n",
    "    import micropip\n",
    "    await micropip.install('ipywidgets')\n",
    "\n",
    "import math\n",
    "import numpy as np    \n",
    "    \n",
    "import matplotlib.pyplot as plt\n",
    "    \n",
    "import ipywidgets as widgets\n",
    "from ipywidgets import interact, interactive, fixed, interact_manual\n",
    "\n",
    "from IPython.display import display\n"
   ]
  },
  {
   "cell_type": "markdown",
   "id": "1dbac313-00c7-45b4-a8eb-065be829129c",
   "metadata": {},
   "source": [
    "**Notation:**\n",
    "\n",
    ">`E` ... spring stiffness [MPa]<br>\n",
    "\n",
    ">`eta` ... dashpot viscosity [MPa day]<br>\n",
    "\n",
    ">`tau` ... retardation time [day] (=`eta/E`)<br>\n",
    "\n",
    ">`t` ... time of interest [day]<br>\n",
    "\n",
    ">`tt` ... time of loading [day]<br>"
   ]
  },
  {
   "cell_type": "markdown",
   "id": "a49fb331-7654-4774-a15e-d7472b0a36ab",
   "metadata": {},
   "source": [
    "## Definition of a relaxation for Maxwell unit"
   ]
  },
  {
   "cell_type": "code",
   "execution_count": 2,
   "id": "b70b697f-382b-4b41-8350-c0392899a343",
   "metadata": {
    "tags": []
   },
   "outputs": [],
   "source": [
    "def Maxwell_R_func(E, eta, t, tt):\n",
    "\n",
    "    tau = eta / E\n",
    "\n",
    "    if t >= tt:\n",
    "        dt = t-tt\n",
    "\n",
    "        if tau > 0.:\n",
    "            return E * math.exp(-(dt)/ tau) \n",
    "        else:\n",
    "            return 0.\n",
    "            \n",
    "    else:\n",
    "        return 0."
   ]
  },
  {
   "cell_type": "markdown",
   "id": "12b9c94a-907f-4f39-9915-a4a9be581157",
   "metadata": {},
   "source": [
    "## Parameters definition"
   ]
  },
  {
   "cell_type": "code",
   "execution_count": 3,
   "id": "569ad7c5-ae01-42f6-9876-bb07f45b46d3",
   "metadata": {
    "tags": []
   },
   "outputs": [],
   "source": [
    "# reference values\n",
    "\n",
    "# spring stiffness [MPa]\n",
    "E_ref = 1.\n",
    "# dashpot viscosity [MPa * day]\n",
    "eta_ref = 1.\n",
    "# reference relaxation time\n",
    "tau_ref = eta_ref / E_ref\n",
    "\n",
    "# variables ranges: powers of 10\n",
    "log_E_min = -3\n",
    "log_E_max = 3\n",
    "\n",
    "log_eta_min = -3\n",
    "log_eta_max = 3\n",
    "\n",
    "log_tau_min = -2\n",
    "log_tau_max = 2\n",
    "\n",
    "# number of time steps\n",
    "t_div = 100\n"
   ]
  },
  {
   "cell_type": "markdown",
   "id": "a9ccd243-40cd-44ae-ab62-693d1f7c48ba",
   "metadata": {},
   "source": [
    "## Plot relaxation function"
   ]
  },
  {
   "cell_type": "code",
   "execution_count": 4,
   "id": "6210373a-ffe8-45ed-b135-919a8c1ad19a",
   "metadata": {
    "tags": []
   },
   "outputs": [],
   "source": [
    "def plot_Maxwell_R_func(E, eta, log_scale = True, show_tau = False, show_reference = True):\n",
    "\n",
    "    if (log_scale):\n",
    "        times = np.logspace(log_tau_min, log_tau_max, num = t_div )\n",
    "    else:\n",
    "        times = np.linspace(0., 10**log_tau_max, num = t_div )\n",
    "\n",
    "    ax.clear()\n",
    "\n",
    "    # reference data with E_ref and eta_ref\n",
    "    if show_reference:\n",
    "        R_ref = []\n",
    "        for t in times:\n",
    "            R_ref.append( Maxwell_R_func(E_ref, eta_ref, t, 0.) )\n",
    "\n",
    "        ax.plot(times, R_ref, lw=1.5, color=\"red\", linestyle='dashed', label=r'$R_{ref}(t)$')\n",
    "        \n",
    "        if (show_tau):\n",
    "            ax.axvline(x = tau_ref, lw=1.5, color=\"red\", linestyle = \"--\")\n",
    "\n",
    "    # data for user-defined parameters\n",
    "    R = []\n",
    "    for t in times:\n",
    "        R.append( Maxwell_R_func(E, eta, t, 0.) )\n",
    "    ax.plot(times, R, lw=2., color=\"blue\", label=r'$R(t)$')\n",
    "    if (show_tau):\n",
    "        ax.axvline(x = eta/E, lw=1.5, color=\"blue\", linestyle = \"--\")\n",
    "    \n",
    "    if (log_scale):\n",
    "        ax.set_xscale('log')\n",
    "        ax.set_xlim([10**log_tau_min, 10**log_tau_max])\n",
    "    else:\n",
    "        ax.set_xlim([0., 10**log_tau_max])\n",
    "\n",
    "\n",
    "    ax.grid(True)\n",
    "    ax.legend()\n",
    "    ax.set_xlabel('Duration of loading, t-t\\' [day]')\n",
    "    ax.set_ylabel('Relaxation function, R [MPa]')\n",
    "    \n",
    "    display(fig)\n",
    "    \n",
    "\n"
   ]
  },
  {
   "cell_type": "markdown",
   "id": "6d04f770-7f80-4a57-b220-3eac6e79f515",
   "metadata": {},
   "source": [
    "## GUI for relaxation function"
   ]
  },
  {
   "cell_type": "code",
   "execution_count": 5,
   "id": "17c0579a-9f38-4cd6-be01-ec08f4901f9e",
   "metadata": {
    "tags": []
   },
   "outputs": [
    {
     "ename": "NameError",
     "evalue": "name 'widgets' is not defined",
     "output_type": "error",
     "traceback": [
      "\u001b[0;31m---------------------------------------------------------------------------\u001b[0m",
      "\u001b[0;31mNameError\u001b[0m                                 Traceback (most recent call last)",
      "\u001b[0;32m/tmp/ipykernel_88488/954257252.py\u001b[0m in \u001b[0;36m<module>\u001b[0;34m\u001b[0m\n\u001b[0;32m----> 1\u001b[0;31m \u001b[0moutput\u001b[0m \u001b[0;34m=\u001b[0m \u001b[0mwidgets\u001b[0m\u001b[0;34m.\u001b[0m\u001b[0mOutput\u001b[0m\u001b[0;34m(\u001b[0m\u001b[0;34m)\u001b[0m\u001b[0;34m\u001b[0m\u001b[0;34m\u001b[0m\u001b[0m\n\u001b[0m\u001b[1;32m      2\u001b[0m \u001b[0;34m\u001b[0m\u001b[0m\n\u001b[1;32m      3\u001b[0m \u001b[0mfig\u001b[0m\u001b[0;34m,\u001b[0m \u001b[0max\u001b[0m \u001b[0;34m=\u001b[0m \u001b[0mplt\u001b[0m\u001b[0;34m.\u001b[0m\u001b[0msubplots\u001b[0m\u001b[0;34m(\u001b[0m\u001b[0;36m1\u001b[0m\u001b[0;34m,\u001b[0m \u001b[0;36m1\u001b[0m\u001b[0;34m,\u001b[0m \u001b[0mfigsize\u001b[0m\u001b[0;34m=\u001b[0m\u001b[0;34m(\u001b[0m\u001b[0;36m10\u001b[0m\u001b[0;34m,\u001b[0m\u001b[0;36m5\u001b[0m\u001b[0;34m)\u001b[0m\u001b[0;34m)\u001b[0m\u001b[0;34m\u001b[0m\u001b[0;34m\u001b[0m\u001b[0m\n\u001b[1;32m      4\u001b[0m \u001b[0mplt\u001b[0m\u001b[0;34m.\u001b[0m\u001b[0mrcParams\u001b[0m\u001b[0;34m.\u001b[0m\u001b[0mupdate\u001b[0m\u001b[0;34m(\u001b[0m\u001b[0;34m{\u001b[0m\u001b[0;34m'font.size'\u001b[0m\u001b[0;34m:\u001b[0m \u001b[0;36m14\u001b[0m\u001b[0;34m}\u001b[0m\u001b[0;34m)\u001b[0m\u001b[0;34m\u001b[0m\u001b[0;34m\u001b[0m\u001b[0m\n\u001b[1;32m      5\u001b[0m \u001b[0mplt\u001b[0m\u001b[0;34m.\u001b[0m\u001b[0mclose\u001b[0m\u001b[0;34m(\u001b[0m\u001b[0mfig\u001b[0m\u001b[0;34m)\u001b[0m\u001b[0;34m\u001b[0m\u001b[0;34m\u001b[0m\u001b[0m\n",
      "\u001b[0;31mNameError\u001b[0m: name 'widgets' is not defined"
     ]
    }
   ],
   "source": [
    "output = widgets.Output()\n",
    "\n",
    "fig, ax = plt.subplots(1, 1, figsize=(10,5))\n",
    "plt.rcParams.update({'font.size': 14})\n",
    "plt.close(fig)\n",
    "\n",
    "E_slide = widgets.FloatLogSlider(min=log_E_min, max=log_E_max, value=1., step=0.25, description='E [MPa]')\n",
    "eta_slide = widgets.FloatLogSlider(min=log_eta_min, max=log_eta_max, value=1., step=0.25, description='eta [MPa day]')\n",
    "\n",
    "aux = interactive(plot_Maxwell_R_func, E = E_slide, eta = eta_slide, log_scale = False, show_tau = False, show_reference = True)\n",
    "\n",
    "display(aux)\n"
   ]
  },
  {
   "cell_type": "markdown",
   "id": "042643a6-9a23-4e16-ad1f-dd30f901a203",
   "metadata": {},
   "source": [
    "## Response to prescribed and constant strain"
   ]
  },
  {
   "cell_type": "code",
   "execution_count": 22,
   "id": "79427d1b-728f-439e-89e5-5f31d642a249",
   "metadata": {
    "tags": []
   },
   "outputs": [],
   "source": [
    "def plot_Maxwell_strains(E, eta, epsilon, log_scale = True, show_tau = False, show_reference = True):\n",
    "\n",
    "    if (log_scale):\n",
    "        times = np.logspace(log_tau_min, log_tau_max, num = t_div )\n",
    "    else:\n",
    "        times = np.linspace(0., 10**log_tau_max, num = t_div )\n",
    "\n",
    "    ax2.clear()        \n",
    "\n",
    "    # reference data with E_ref and eta_ref\n",
    "    if show_reference:\n",
    "        eps_e_ref = []\n",
    "        eps_v_ref = []\n",
    "        for t in times:\n",
    "            R_ref = Maxwell_R_func(E_ref, eta_ref, t, 0.)\n",
    "            sig_ref = epsilon * R_ref\n",
    "            eps_e_ref.append( sig_ref / E_ref )\n",
    "            eps_v_ref.append( epsilon - eps_e_ref[-1] )\n",
    "\n",
    "        ax2.plot(times, eps_e_ref, lw=1.5, color=\"red\", linestyle='dashed', label=r'$\\varepsilon_{e,ref}(t)$')\n",
    "        ax2.plot(times, eps_v_ref, lw=1.5, color=\"red\", linestyle='solid', label=r'$\\varepsilon_{v,ref}(t)$')\n",
    "        \n",
    "        if (show_tau):\n",
    "            ax2.axvline(x = tau_ref, lw=1.5, color=\"red\", linestyle = \"--\")\n",
    "\n",
    "    # data for user-defined parameters\n",
    "    eps_e = []\n",
    "    eps_v = []\n",
    "    for t in times:\n",
    "        R = Maxwell_R_func(E, eta, t, 0.)\n",
    "        sig = epsilon * R\n",
    "        eps_e.append( sig / E )\n",
    "        eps_v.append( epsilon - eps_e[-1] )\n",
    "\n",
    "\n",
    "    ax2.plot(times, eps_e, lw=2.0, color=\"blue\", linestyle='dashed', label=r'$\\varepsilon_{e}(t)$')\n",
    "    ax2.plot(times, eps_v, lw=2.0, color=\"blue\", linestyle='solid', label=r'$\\varepsilon_{v}(t)$')\n",
    "    \n",
    "    if (show_tau):\n",
    "        ax2.axvline(x = eta/E, lw=1.5, color=\"blue\", linestyle = \"--\")\n",
    "    \n",
    "    if (log_scale):\n",
    "        ax2.set_xscale('log')\n",
    "        ax2.set_xlim([10**log_tau_min, 10**log_tau_max])\n",
    "    else:\n",
    "        ax2.set_xlim([0., 10**log_tau_max])\n",
    "\n",
    "\n",
    "    ax2.grid(True)\n",
    "    ax2.legend()\n",
    "    ax2.set_xlabel('Duration of loading, t-t\\' [day]')\n",
    "    ax2.set_ylabel(r'Strain, $\\varepsilon$ [$10^{-6}$]')\n",
    "\n",
    "    display(fig2)\n",
    "    "
   ]
  },
  {
   "cell_type": "markdown",
   "id": "9e41d562-e2a7-48da-a62a-9c18dd2c5f02",
   "metadata": {},
   "source": [
    "## GUI for strain redistribution"
   ]
  },
  {
   "cell_type": "code",
   "execution_count": 23,
   "id": "7923341b-d04f-4259-bd98-93bcef83d576",
   "metadata": {
    "tags": []
   },
   "outputs": [
    {
     "data": {
      "application/vnd.jupyter.widget-view+json": {
       "model_id": "5e9d3321c3b143a1bc3a39e507056888",
       "version_major": 2,
       "version_minor": 0
      },
      "text/plain": [
       "interactive(children=(FloatLogSlider(value=1.0, description='E [MPa]', max=3.0, min=-3.0, step=0.25), FloatLog…"
      ]
     },
     "metadata": {},
     "output_type": "display_data"
    }
   ],
   "source": [
    "output = widgets.Output()\n",
    "\n",
    "fig2, ax2 = plt.subplots(1, 1, figsize=(10,5))\n",
    "plt.rcParams.update({'font.size': 14})\n",
    "plt.close(fig2)\n",
    "\n",
    "\n",
    "E_slide = widgets.FloatLogSlider(min=log_E_min, max=log_E_max, value=1., step=0.25, description='E [MPa]')\n",
    "eta_slide = widgets.FloatLogSlider(min=log_eta_min, max=log_eta_max, value=1., step=0.25, description='eta [MPa day]')\n",
    "epsilon_slide = widgets.FloatSlider(min=0., max=100., value=10., step=1., description='strain [$10^{-6}$]')\n",
    "\n",
    "aux = interactive(plot_Maxwell_strains, E = E_slide, eta = eta_slide, epsilon = epsilon_slide, log_scale = False, show_tau = False, show_reference = True)\n",
    "\n",
    "display(aux)"
   ]
  },
  {
   "cell_type": "code",
   "execution_count": null,
   "id": "ae3fa5ae-22f0-47a4-9047-c2506aa509e3",
   "metadata": {},
   "outputs": [],
   "source": []
  }
 ],
 "metadata": {
  "kernelspec": {
   "display_name": "Python 3 (ipykernel)",
   "language": "python",
   "name": "python3"
  },
  "language_info": {
   "codemirror_mode": {
    "name": "ipython",
    "version": 3
   },
   "file_extension": ".py",
   "mimetype": "text/x-python",
   "name": "python",
   "nbconvert_exporter": "python",
   "pygments_lexer": "ipython3",
   "version": "3.10.12"
  }
 },
 "nbformat": 4,
 "nbformat_minor": 5
}
