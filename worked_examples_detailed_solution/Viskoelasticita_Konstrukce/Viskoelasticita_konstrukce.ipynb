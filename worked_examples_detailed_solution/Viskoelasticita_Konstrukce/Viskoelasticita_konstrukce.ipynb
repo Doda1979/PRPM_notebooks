{
  "cells": [
    {
      "cell_type": "markdown",
      "id": "m2bUcoAxo8ac",
      "metadata": {
        "id": "m2bUcoAxo8ac"
      },
      "source": [
        "# <center>Tato studijní pomůcka vznikla za podpory Inovačního projektu FSv ČVUT č. 15 \"Inovativní pomůcky pro předměty Přetváření a porušování materiálů\".</center>\n",
        "<center>(c) 2024 Lenka Dohnalová <i>(lenka.dohnalova@fsv.cvut.cz)</i>, Petr Havlásek <i>(petr.havlasek@cvut.cz)</i>, Milan Jirásek <i>(milan.jirasek@cvut.cz)</i></center>\n",
        "\n",
        "***\n",
        "# Viskoelastický nosník"
      ]
    },
    {
      "cell_type": "markdown",
      "id": "Yt7Ka3O2o8ah",
      "metadata": {
        "id": "Yt7Ka3O2o8ah"
      },
      "source": [
        "## Zadání\n",
        "Prutová konstrukce na obrázku je vyrobena z betonu, který budeme v tomto příkladu považovat za lineárně viskoelastický materiál se stárnutím. Nosníky mají po délce konstantní průřez charakterizovaný momentem setrvačnosti $I$.    \n",
        "\n",
        "V čase (tj. stáří betonu) 30 dní byla konstrukce zatížena svislou silou $F$.\n",
        "Za 20 dní, tj. celkem 50 dní od vybetonování, došlo ke svislému posunu levé podpory o $\\overline{w}$ směrem dolů (viz obrázek).\n",
        "Ve stáří 100 dní došlo současně k odtížení i rektifikaci levé podpory o $\\overline{w}$ směrem nahoru (síla $F$ a svislý posun $w_1$ mají tedy od této chvíle nulovou velikost).\n",
        "    \n",
        "Vyjádřete svislý posun styčníku 2 a momentovou reakci v levém vetknutí (styčník 1) v časech 40 dní, 60 dní a 200 dní po vybetonování.\n",
        "Výpočet proveďte obecně (bez dosazování konkrétních hodnot).\n",
        "Výsledek vyjádřete pomocí symbolů $L$, $I$, $F$, $\\overline{w}$ a pomocí funkce poddajnosti $J(t,t')$, případně relaxační funkce $R(t,t')$.\n",
        "\n",
        "Jak by se změnil zápis obou veličin pro čas 200 dní po vybetonování, kdybychom beton považovali za materiál bez stárnutí?\n",
        "\n"
      ]
    },
    {
      "cell_type": "markdown",
      "id": "WMvdu4rPo8aj",
      "metadata": {
        "id": "WMvdu4rPo8aj"
      },
      "source": [
        "Import potřebných knihoven"
      ]
    },
    {
      "cell_type": "code",
      "execution_count": 1,
      "id": "Pj9XADrjo8al",
      "metadata": {
        "id": "Pj9XADrjo8al"
      },
      "outputs": [],
      "source": [
        "%matplotlib inline\n",
        "\n",
        "import math\n",
        "import numpy as np\n",
        "\n",
        "from IPython.display import Markdown as md\n",
        "\n",
        "import matplotlib.pyplot as plt\n",
        "\n",
        "#!pip install sympy\n",
        "from sympy import *\n",
        "import sympy as smp\n",
        "\n",
        "import matplotlib.patches as patches\n"
      ]
    },
    {
      "cell_type": "code",
      "source": [
        "# Tato buňka slouží pouze pro vykreslení zadaného nosníku a nijak nesouvisí s řešením příkladu\n",
        "# Picture\n",
        "fig, ax = plt.subplots(figsize=(10, 4))\n",
        "\n",
        "# Beam - nodes\n",
        "x1, y1 = 0, 0\n",
        "x2, y2 = 4, 0\n",
        "x3, y3 = 9, 0\n",
        "\n",
        "# Beam - lines\n",
        "ax.plot([x1, x2 - 0.15], [y1, y2], 'k-', linewidth=4)  # První část nosníku\n",
        "ax.plot([x2 + 0.15, x3], [y2, y3], 'k-', linewidth=4)  # Druhá část nosníku\n",
        "\n",
        "# Support 1\n",
        "# nodes\n",
        "x11, y11 = 0, 0.5\n",
        "x12, y12 = 0, -0.5\n",
        "x13, y13 = -0.3, 0.2\n",
        "x14, y14 = 0, 0.2\n",
        "x15, y15 = -0.3, -0.1\n",
        "x16, y16 = 0, -0.1\n",
        "x17, y17 = -0.3, -0.4\n",
        "x18, y18 = 0, -0.4\n",
        "x19, y19 = -0.3, -0.7\n",
        "# lines\n",
        "ax.plot([x11, x12], [y11, y12], 'k-', linewidth=3)\n",
        "ax.plot([x13, x11], [y13, y11], 'k-', linewidth=3)\n",
        "ax.plot([x15, x14], [y15, y14], 'k-', linewidth=3)\n",
        "ax.plot([x17, x16], [y17, y16], 'k-', linewidth=3)\n",
        "ax.plot([x19, x18], [y19, y18], 'k-', linewidth=3)\n",
        "# label\n",
        "ax.text(x1 + 0.25, y1 + 0.5, \"1\", ha='center', va='top', fontsize=20)\n",
        "\n",
        "# Support 3\n",
        "# nodes\n",
        "x31, y31 = 9, 0.5\n",
        "x32, y32 = 9, -0.5\n",
        "x33, y33 = 9.3, 0.2\n",
        "x34, y34 = 9, 0.2\n",
        "x35, y35 = 9.3, -0.1\n",
        "x36, y36 = 9, -0.1\n",
        "x37, y37 = 9.3, -0.4\n",
        "x38, y38 = 9, -0.4\n",
        "x39, y39 = 9.3, -0.7\n",
        "# lines\n",
        "ax.plot([x31, x32], [y31, y32], 'k-', linewidth=3)\n",
        "ax.plot([x33, x31], [y33, y31], 'k-', linewidth=3)\n",
        "ax.plot([x35, x34], [y35, y34], 'k-', linewidth=3)\n",
        "ax.plot([x37, x36], [y37, y36], 'k-', linewidth=3)\n",
        "ax.plot([x39, x38], [y39, y38], 'k-', linewidth=3)\n",
        "# label\n",
        "ax.text(x3 - 0.25, y3 + 0.5, \"3\", ha='center', va='top', fontsize=20)\n",
        "\n",
        "# Support 2\n",
        "circle = patches.Circle((4, 0), 0.1, edgecolor='black', fill=False, linewidth=3)  # empty circle\n",
        "ax.add_patch(circle)\n",
        "# label\n",
        "ax.text(x2 + 0.3, y2 + 0.5, \"2\", ha='center', va='top', fontsize=20)\n",
        "\n",
        "# force F\n",
        "ax.arrow(4, 1.2, 0, -0.9, head_width=0.2, head_length=0.2, fc='black', ec='black', linewidth=2)\n",
        "ax.text(4.3, 0.8, \"$F$\", ha='center', va='bottom', fontsize=24)\n",
        "\n",
        "# support displacement\n",
        "ax.arrow(0, -0.7, 0, -0.5, head_width=0.2, head_length=0.2, fc='grey', ec='grey', linewidth=2)\n",
        "ax.plot([-0.15, 0.15], [-0.7, -0.7], 'k-', linewidth=2, color='grey')\n",
        "ax.text(0.4, -1.3, r\"$\\overline{w}$\", ha='center', va='bottom', fontsize=24, color='grey')\n",
        "\n",
        "# Dimension lines\n",
        "# part 12\n",
        "ax.plot([x1, x2], [-1.8, -1.8], 'k-', marker='|', markersize=20)\n",
        "ax.text(x2/2, -1.7, r\"$0.8 L$\", ha='center', va='bottom', fontsize=24)\n",
        "\n",
        "# part 23\n",
        "ax.plot([x2, x3], [-1.8, -1.8], 'k-', marker='|', markersize=20)\n",
        "ax.text((x2 + x3)/2, -1.7, \"$L$\", ha='center', va='bottom', fontsize=24)\n",
        "\n",
        "# Set limits and hide axes\n",
        "ax.set_xlim(-0.5, 11)\n",
        "ax.set_ylim(-2.5, 2)\n",
        "ax.axis('off')\n",
        "\n",
        "# Show plot\n",
        "plt.show()"
      ],
      "metadata": {
        "id": "pJjX6Es4nWG8",
        "outputId": "8d9a8d02-574d-448f-81ef-b2b6b4ffe5b8",
        "colab": {
          "base_uri": "https://localhost:8080/",
          "height": 401
        }
      },
      "id": "pJjX6Es4nWG8",
      "execution_count": 2,
      "outputs": [
        {
          "output_type": "stream",
          "name": "stderr",
          "text": [
            "<ipython-input-2-a0d14bfacc9e>:66: UserWarning: color is redundantly defined by the 'color' keyword argument and the fmt string \"k-\" (-> color='k'). The keyword argument will take precedence.\n",
            "  ax.plot([-0.15, 0.15], [-0.7, -0.7], 'k-', linewidth=2, color='grey')\n"
          ]
        },
        {
          "output_type": "display_data",
          "data": {
            "text/plain": [
              "<Figure size 1000x400 with 1 Axes>"
            ],
            "image/png": "[encoded data removed]"
          },
          "metadata": {}
        }
      ]
    },
    {
      "cell_type": "markdown",
      "id": "s-ECOm2uo8an",
      "metadata": {
        "id": "s-ECOm2uo8an"
      },
      "source": [
        "## Řešení"
      ]
    },
    {
      "cell_type": "markdown",
      "id": "RsJt-LEyo8ap",
      "metadata": {
        "id": "RsJt-LEyo8ap"
      },
      "source": [
        "### Analytické řešení"
      ]
    },
    {
      "cell_type": "markdown",
      "id": "xx1xNfFFo8ar",
      "metadata": {
        "id": "xx1xNfFFo8ar"
      },
      "source": [
        "**Definice proměnných**"
      ]
    },
    {
      "cell_type": "markdown",
      "id": "XOJiuAsEqdyi",
      "metadata": {
        "id": "XOJiuAsEqdyi"
      },
      "source": []
    },
    {
      "cell_type": "code",
      "execution_count": 3,
      "id": "5s9Jcd3To8au",
      "metadata": {
        "id": "5s9Jcd3To8au"
      },
      "outputs": [],
      "source": [
        "t = smp.symbols('t', real = True, positive = True)\n",
        "tt = smp.symbols('tt', real = True, positive = True)\n",
        "\n",
        "I = smp.symbols('I', real = True, positive = True)\n",
        "E = smp.symbols('E', real = True, positive = True)\n",
        "\n",
        "L = smp.symbols('L', real = True, positive = True)\n",
        "\n",
        "L12 = smp.Rational(8, 10) * L  # 0.8 jako zlomek\n",
        "L23 = smp.Rational(1, 1) * L   # 1 jako zlomek\n",
        "\n",
        "F = smp.symbols('F', real = True, positive = True)\n",
        "w = smp.symbols(r'\\overline{w}', real = True, positive = True)\n",
        "w2 = smp.symbols(r'w_2', real = True, positive = True)\n",
        "w22 = smp.symbols(r'w_22', real = True, positive = True)\n",
        "\n",
        "J = smp.symbols(r'J(t,tt)', real = True, positive = True)\n",
        "R = smp.symbols(r'R(t,tt)', real = True, positive = True)\n",
        "\n",
        "J_40_30 = smp.symbols(r'J(40,30)', real = True, positive = True)\n"
      ]
    },
    {
      "cell_type": "markdown",
      "id": "dnhwxLPNo8aw",
      "metadata": {
        "id": "dnhwxLPNo8aw"
      },
      "source": [
        "**Řešení podle pružnosti**\n",
        "\n",
        "Pro řešení použijeme například deformační metodu. Pro daný nosník bude jedinou deformační neznámou svislý posun styčníku 2.\n",
        "\n",
        "Hodnoty koncových sil a momentů určíme z tabulek deformační metody.\n",
        "\n",
        "Řešit budeme pro lepší přehlednost samostatně pro účinky od zatížení silou $F$ a od poklesu podpory $\\overline w$.\n",
        "\n",
        "*Během řešení si všímejte, které veličiny a od kterých účinků jsou či nejsou závislé na tuhosti $E$.*"
      ]
    },
    {
      "cell_type": "markdown",
      "source": [
        "**Výpočet pro zatížení silou $F$**\n",
        "\n",
        "Podmínka rovnováhy sil ve styčníku 2 pro účinky od silového zatížení\n",
        "\n",
        "$Z_{21}^F + Z_{23}^F - F = 0$"
      ],
      "metadata": {
        "id": "POVsrsB5rkwC"
      },
      "id": "POVsrsB5rkwC"
    },
    {
      "cell_type": "code",
      "execution_count": 4,
      "id": "CYhLoZlko8ax",
      "metadata": {
        "id": "CYhLoZlko8ax",
        "outputId": "4210d2ec-47d9-417a-d51d-54922b4a660d",
        "colab": {
          "base_uri": "https://localhost:8080/",
          "height": 72
        }
      },
      "outputs": [
        {
          "output_type": "stream",
          "name": "stdout",
          "text": [
            "Průhyb styčníku od zatížení silou F:\n"
          ]
        },
        {
          "output_type": "display_data",
          "data": {
            "text/plain": [
              "Eq(w_{2}^F, 64*F*L**3/(567*E*I))"
            ],
            "text/latex": "$\\displaystyle w_{2}^F = \\frac{64 F L^{3}}{567 E I}$"
          },
          "metadata": {}
        }
      ],
      "source": [
        "# z tabulek DM\n",
        "Z_21_F = 3 * E * I / L12**2 * w2 / L12\n",
        "Z_23_F = 3 * E * I / L23**2 * w2 / L23\n",
        "\n",
        "# podm. rovnováhy\n",
        "podm2_F = Z_21_F + Z_23_F - F\n",
        "\n",
        "# výpočet průhybu styčníku 2 z podm. rovnováhy\n",
        "w2_F = smp.solve(podm2_F, w2)\n",
        "w2_F = [smp.nsimplify(sol) for sol in w2_F]\n",
        "\n",
        "print(f\"Průhyb styčníku od zatížení silou F:\")\n",
        "display(smp.Eq(smp.symbols(r'w_{2}^F'), w2_F[0]))\n"
      ]
    },
    {
      "cell_type": "markdown",
      "source": [
        "Momentovou reakci dopočteme ze známé koncové síly $Z_{21}$, případně lze použít opět tabulku DM."
      ],
      "metadata": {
        "id": "R34TyJgDIUpA"
      },
      "id": "R34TyJgDIUpA"
    },
    {
      "cell_type": "code",
      "source": [
        "Z_21_F = Z_21_F.subs(w2, w2_F[0])\n",
        "Z_23_F = Z_23_F.subs(w2, w2_F[0])\n",
        "\n",
        "R_M1_F = Z_21_F * L12\n",
        "R_M2_F = Z_23_F * L23\n",
        "\n",
        "# Výstupy\n",
        "print(f\"Z_21_F: {Z_21_F}\")\n",
        "print(f\"Z_23_F: {Z_23_F}\")\n",
        "print(f\"R_M1_F: {R_M1_F}\")\n",
        "print(f\"R_M2_F: {R_M2_F}\")\n",
        "\n",
        "print(f\"Momentová reakce v levé podpoře od zatížení silou F:\")\n",
        "\n",
        "display(smp.Eq(smp.symbols(r'R_{M1}^F'), R_M1_F))\n"
      ],
      "metadata": {
        "id": "8D1hMhT9IXgc",
        "outputId": "f78bc6c7-8fcc-4c7f-b293-5c4a3d874dcb",
        "colab": {
          "base_uri": "https://localhost:8080/",
          "height": 141
        }
      },
      "id": "8D1hMhT9IXgc",
      "execution_count": 5,
      "outputs": [
        {
          "output_type": "stream",
          "name": "stdout",
          "text": [
            "Z_21_F: 125*F/189\n",
            "Z_23_F: 64*F/189\n",
            "R_M1_F: 100*F*L/189\n",
            "R_M2_F: 64*F*L/189\n",
            "Momentová reakce v levé podpoře od zatížení silou F:\n"
          ]
        },
        {
          "output_type": "display_data",
          "data": {
            "text/plain": [
              "Eq(R_{M1}^F, 100*F*L/189)"
            ],
            "text/latex": "$\\displaystyle R_{M1}^F = \\frac{100 F L}{189}$"
          },
          "metadata": {}
        }
      ]
    },
    {
      "cell_type": "markdown",
      "source": [
        "**Výpočet pro předepsaný pokles $\\overline w$**\n",
        "\n",
        "Podmínka rovnováhy sil ve styčníku 2\n",
        "\n",
        "$Z_{21}^w + Z_{23}^w = 0$"
      ],
      "metadata": {
        "id": "qI4cD3qMwejt"
      },
      "id": "qI4cD3qMwejt"
    },
    {
      "cell_type": "code",
      "source": [
        "# z tabulek DM\n",
        "Z_21_w = 3 * E * I / L12**2 * (w2 - w) / L12\n",
        "Z_23_w = 3 * E * I / L23**2 * w2 / L23\n",
        "\n",
        "# podm. rovnováhy\n",
        "podm2_w = Z_21_w + Z_23_w\n",
        "\n",
        "# výpočet průhybu styčníku 2 z podm. rovnováhy\n",
        "w2_w = smp.solve(podm2_w, w2)\n",
        "w2_w = [smp.nsimplify(sol) for sol in w2_w]\n",
        "\n",
        "print(f\"Průhyb styčníku od poklesu podpory:\")\n",
        "display(smp.Eq(smp.symbols(r'w_{2}^w'), w2_w[0]))\n"
      ],
      "metadata": {
        "id": "As4M7Lkn0Dgf",
        "outputId": "aac06f43-3042-41ff-feec-f5e281486262",
        "colab": {
          "base_uri": "https://localhost:8080/",
          "height": 69
        }
      },
      "id": "As4M7Lkn0Dgf",
      "execution_count": 6,
      "outputs": [
        {
          "output_type": "stream",
          "name": "stdout",
          "text": [
            "Průhyb styčníku od poklesu podpory:\n"
          ]
        },
        {
          "output_type": "display_data",
          "data": {
            "text/plain": [
              "Eq(w_{2}^w, 125*\\overline{w}/189)"
            ],
            "text/latex": "$\\displaystyle w_{2}^w = \\frac{125 \\overline{w}}{189}$"
          },
          "metadata": {}
        }
      ]
    },
    {
      "cell_type": "code",
      "source": [
        "Z_21_w = Z_21_w.subs(w2, w2_w[0])\n",
        "Z_23_w = Z_23_w.subs(w2, w2_w[0])\n",
        "\n",
        "R_M1_w = Z_21_w * L12\n",
        "R_M2_w = Z_23_w * L23\n",
        "\n",
        "# Výstupy\n",
        "print(f\"Z_21_w: {Z_21_w}\")\n",
        "print(f\"Z_23_w: {Z_23_w}\")\n",
        "print(f\"R_M1_w: {R_M1_w}\")\n",
        "print(f\"R_M2_w: {R_M2_w}\")\n",
        "\n",
        "print(f\"Momentová reakce v levé podpoře od předepsaného poklesu levé podpory:\")\n",
        "\n",
        "display(smp.Eq(smp.symbols(r'R_{M1}^w'), R_M1_w))\n"
      ],
      "metadata": {
        "id": "JZveMg-QM1PS",
        "outputId": "124f8890-adbb-4d5d-bfaf-4db3ad5a137f",
        "colab": {
          "base_uri": "https://localhost:8080/",
          "height": 141
        }
      },
      "id": "JZveMg-QM1PS",
      "execution_count": 7,
      "outputs": [
        {
          "output_type": "stream",
          "name": "stdout",
          "text": [
            "Z_21_w: -125*E*I*\\overline{w}/(63*L**3)\n",
            "Z_23_w: 125*E*I*\\overline{w}/(63*L**3)\n",
            "R_M1_w: -100*E*I*\\overline{w}/(63*L**2)\n",
            "R_M2_w: 125*E*I*\\overline{w}/(63*L**2)\n",
            "Momentová reakce v levé podpoře od předepsaného poklesu levé podpory:\n"
          ]
        },
        {
          "output_type": "display_data",
          "data": {
            "text/plain": [
              "Eq(R_{M1}^w, -100*E*I*\\overline{w}/(63*L**2))"
            ],
            "text/latex": "$\\displaystyle R_{M1}^w = - \\frac{100 E I \\overline{w}}{63 L^{2}}$"
          },
          "metadata": {}
        }
      ]
    },
    {
      "cell_type": "markdown",
      "source": [
        "Superpozicí obou příspěvků získáme celkové řešení podle pružnosti."
      ],
      "metadata": {
        "id": "2vVPpdWlPd8m"
      },
      "id": "2vVPpdWlPd8m"
    },
    {
      "cell_type": "code",
      "source": [
        "w2_celk = w2_w[0] + w2_F[0]\n",
        "print(f\"Svislý posun styčníku - pružné řešení:\")\n",
        "display(smp.Eq(smp.symbols(r'w_{2}'), w2_celk))\n",
        "\n",
        "R_M1 = R_M1_F + R_M1_w\n",
        "print(f\"Momentová reakce v levé podpoře - pružné řešení:\")\n",
        "display(smp.Eq(smp.symbols(r'R_{M1}'), R_M1))\n"
      ],
      "metadata": {
        "id": "E_p4gDQENat6",
        "outputId": "254663ff-2b58-402a-b59f-ac48ee2c4b0f",
        "colab": {
          "base_uri": "https://localhost:8080/",
          "height": 124
        }
      },
      "id": "E_p4gDQENat6",
      "execution_count": 8,
      "outputs": [
        {
          "output_type": "stream",
          "name": "stdout",
          "text": [
            "Svislý posun styčníku - pružné řešení:\n"
          ]
        },
        {
          "output_type": "display_data",
          "data": {
            "text/plain": [
              "Eq(w_{2}, 125*\\overline{w}/189 + 64*F*L**3/(567*E*I))"
            ],
            "text/latex": "$\\displaystyle w_{2} = \\frac{125 \\overline{w}}{189} + \\frac{64 F L^{3}}{567 E I}$"
          },
          "metadata": {}
        },
        {
          "output_type": "stream",
          "name": "stdout",
          "text": [
            "Momentová reakce v levé podpoře - pružné řešení:\n"
          ]
        },
        {
          "output_type": "display_data",
          "data": {
            "text/plain": [
              "Eq(R_{M1}, -100*E*I*\\overline{w}/(63*L**2) + 100*F*L/189)"
            ],
            "text/latex": "$\\displaystyle R_{M1} = - \\frac{100 E I \\overline{w}}{63 L^{2}} + \\frac{100 F L}{189}$"
          },
          "metadata": {}
        }
      ]
    },
    {
      "cell_type": "markdown",
      "id": "PTz0rPo_o8ay",
      "metadata": {
        "id": "PTz0rPo_o8ay"
      },
      "source": [
        "**Viskoelastické řešení**\n",
        "\n",
        "Při řešení podle viskoelasticity je potřeba na složky, jejichž hodnota je úměrná poddajnosti $1/E$, resp. modulu pružnosti $E$, aplikovat operátor poddajnosti resp. relaxační operátor.\n",
        "V praxi to znamená, že ve vztazích nahradíme poddajnost $1/E$ funkcí poddajnosti $J(t,t')$ a modul pružnosti $E$ relaxační funkcí $R(t,t')$.\n",
        "\n",
        "Jelikož se jedná o materiál se stárnutím, funkce poddajnosti i relaxační funkce budou záviset nejen na čase $t$ pro který je vyhodnocení prováděno, ale i na stáří betonu v okamžiku vnesení zatížení $t'$.\n",
        "Odtížení a rektifikaci je při viskoelastickém výpočtu nutné uvažovat jako nové zatěžovací stavy. Od času $t = 100$ dní začne na styčník 2 působit síla o velikosti $-F$ (tedy síla stejné velikosti působící opačným směrem) a dojde k posunu styčníku o $\\overline w$ směrem nahoru."
      ]
    },
    {
      "cell_type": "markdown",
      "source": [
        "- pro čas $t = 40$ dní: (pouze síla $F$)\n",
        "\n",
        "\\begin{align}\n",
        "& w_2(40) = \\frac{64 \\,FL^3}{567 \\, I} \\cdot J(40,30)\\\\\n",
        "& R_{M1}(40) = \\frac{100 \\ FL}{189}\n",
        "\\end{align}\n"
      ],
      "metadata": {
        "id": "1nV3FBQlQ2uv"
      },
      "id": "1nV3FBQlQ2uv"
    },
    {
      "cell_type": "markdown",
      "source": [
        "- pro čas $t = 60$ dní: (síla $F$ i pokles $\\overline w$)\n",
        "\n",
        "\\begin{align}\n",
        "& w_2(60) = \\frac{64 \\,FL^3}{567 \\, I} \\cdot J(60,30) + \\frac{125 \\ \\overline w}{189}\\\\\n",
        "& R_{M1}(60) = \\frac{100 \\ FL}{189} - \\frac{100 \\,I\\,\\overline w}{63 \\, L} \\cdot R(60,50)\n",
        "\\end{align}\n"
      ],
      "metadata": {
        "id": "dwLXeg_4d9sR"
      },
      "id": "dwLXeg_4d9sR"
    },
    {
      "cell_type": "markdown",
      "source": [
        "- pro čas $t = 200$ dní: (síla $F$, pokles $\\overline w$, odtížení a rektifikace poklesu $\\overline w$)\n",
        "\n",
        "\\begin{align}\n",
        "& w_2(200) = \\frac{64 \\,FL^3}{567 \\, I} \\cdot \\left[ J(200,30) - J(200,100)\\right]\\\\\n",
        "& R_{M1}(100) =  - \\frac{100 \\,I\\,\\overline w}{63 \\, L} \\cdot \\left[R(200,50) - R(200,100) \\right]\n",
        "\\end{align}\n"
      ],
      "metadata": {
        "id": "gkXk5fP_gLvA"
      },
      "id": "gkXk5fP_gLvA"
    },
    {
      "cell_type": "markdown",
      "source": [
        "**Materiál bez stárnutí**\n",
        "\n",
        "V případě materiálu, jehož vlastnosti se během stárnutí nemění, jsou funkce poddajnosti i relaxační funkce závislé pouze na délce trvání zatížení."
      ],
      "metadata": {
        "id": "OP5zhJ9Rli5F"
      },
      "id": "OP5zhJ9Rli5F"
    },
    {
      "cell_type": "markdown",
      "source": [
        "- pro čas $t = 200$ dní bez stárnutí:\n",
        "\n",
        "\\begin{align}\n",
        "& w_2(200) = \\frac{64 \\,FL^3}{567 \\, I} \\cdot \\left[ J(170) - J(100)\\right]\\\\\n",
        "& R_{M1}(100) = - \\frac{100 \\,I\\,\\overline w}{63 \\, L} \\cdot \\left[R(150) - R(100) \\right]\n",
        "\\end{align}\n"
      ],
      "metadata": {
        "id": "crwUQRz4lh5d"
      },
      "id": "crwUQRz4lh5d"
    }
  ],
  "metadata": {
    "colab": {
      "provenance": [],
      "toc_visible": true
    },
    "kernelspec": {
      "display_name": "Python 3",
      "language": "python",
      "name": "python3"
    },
    "language_info": {
      "codemirror_mode": {
        "name": "ipython",
        "version": 3
      },
      "file_extension": ".py",
      "mimetype": "text/x-python",
      "name": "python",
      "nbconvert_exporter": "python",
      "pygments_lexer": "ipython3",
      "version": "3.6.5"
    }
  },
  "nbformat": 4,
  "nbformat_minor": 5
}