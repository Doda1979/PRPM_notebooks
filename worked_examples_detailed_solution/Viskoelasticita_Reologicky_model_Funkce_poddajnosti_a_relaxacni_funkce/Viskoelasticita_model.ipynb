{
  "nbformat": 4,
  "nbformat_minor": 0,
  "metadata": {
    "colab": {
      "provenance": []
    },
    "kernelspec": {
      "name": "python3",
      "display_name": "Python 3"
    },
    "language_info": {
      "name": "python"
    }
  },
  "cells": [
    {
      "cell_type": "markdown",
      "source": [
        "# <center>Tato studijní pomůcka vznikla za podpory Inovačního projektu FSv ČVUT č. 15 \"Inovativní pomůcky pro předměty Přetváření a porušování materiálů\".</center>\n",
        "<center>(c) 2024 Lenka Dohnalová <i>(lenka.dohnalova@fsv.cvut.cz)</i>, Petr Havlásek <i>(petr.havlasek@cvut.cz)</i>, Milan Jirásek <i>(milan.jirasek@cvut.cz)</i></center>\n",
        "\n",
        "***\n",
        "# Viskoelasticita - Reologický model - Funkce poddajnosti a relaxační funkce"
      ],
      "metadata": {
        "id": "AzVX5-KPvJDe"
      }
    },
    {
      "cell_type": "markdown",
      "source": [
        "## Zadání\n",
        "Pro Zenerův model (viz obrázek) tvořený dvěma pružinami a jedním tlumičem odvoďte diferenciální rovnici popisující vztah mezi celkovou deformací a celkovým napětím.\n",
        "Ze získané diferenciální rovnice s využitím vhodných počátečních podmínek určete funkci poddajnosti a relaxační funkci. Sestrojte jejich graf v semilogaritmickém měřítku.\n",
        "\n",
        "\n",
        "\n",
        "***\n"
      ],
      "metadata": {
        "id": "NHtsfHexz4Ci"
      }
    },
    {
      "cell_type": "code",
      "source": [
        "from IPython.display import display, Image\n",
        "display(Image(filename=\"Zener_schema.png\", width=400))"
      ],
      "metadata": {
        "colab": {
          "base_uri": "https://localhost:8080/",
          "height": 213
        },
        "id": "lZppAgpGuhG4",
        "outputId": "182d9d47-2a00-4610-9c05-6b6a004b4413"
      },
      "execution_count": 1,
      "outputs": [
        {
          "output_type": "display_data",
          "data": {
            "image/png": "[encoded data removed]",
            "text/plain": [
              "<IPython.core.display.Image object>"
            ]
          },
          "metadata": {
            "image/png": {
              "width": 400
            }
          }
        }
      ]
    },
    {
      "cell_type": "markdown",
      "source": [
        "## Řešení"
      ],
      "metadata": {
        "id": "iTIyqvvz43-x"
      }
    },
    {
      "cell_type": "markdown",
      "metadata": {
        "id": "P3J1G0BKvxYo"
      },
      "source": [
        "V zadaném modelu platí pro napětí\n",
        "\\begin{equation}\n",
        "  σ = σ_1 + σ_2 \\tag{1} \\\\\n",
        "  σ_1 = σ_{1e} = σ_{1v}\n",
        "\\end{equation}\n",
        "\n",
        "a pro deformace\n",
        "\\begin{equation}\n",
        "  \\varepsilon = \\varepsilon_1 = \\varepsilon_2 \\\\\n",
        "  \\varepsilon = \\varepsilon_{1e} + \\varepsilon_{1v}\n",
        "\\end{equation}\n",
        "\n",
        "\\begin{equation}\n",
        "  \\dot{\\varepsilon} = \\dot{\\varepsilon}_{1e} + \\dot{\\varepsilon}_{1v} \\tag{2}\n",
        "\\end{equation}"
      ]
    },
    {
      "cell_type": "markdown",
      "source": [
        "Připomeňme i základní vztahy mezi deformací a napětím pro jednotlivé reologické jednotky.\n",
        "\\begin{equation}\n",
        "  σ_{1e} = E_1 \\cdot \\varepsilon_{1e} \\\\\n",
        "  σ_{1e} = \\eta_{1v} \\cdot \\dot{\\varepsilon}_{1v} \\\\\n",
        "  σ_2 = E_2 \\cdot \\varepsilon\n",
        "\\end{equation}\n",
        "Využijeme je při dalších úpravách pro dosazení."
      ],
      "metadata": {
        "id": "nmH8ZoDlJe79"
      }
    },
    {
      "cell_type": "markdown",
      "source": [
        "Pro získání diferenciální rovnice vyjdeme například z rovnice (2) a postupně dosazujeme výše uvedené vztahy a upravujeme\n",
        "\n",
        "\\begin{equation}\n",
        "  \\dot{\\varepsilon} = \\dot{\\varepsilon}_{1e} + \\dot{\\varepsilon}_{1v} = \\frac{\\dot{\\sigma}_1}{E_1} + \\frac{\\sigma_1}{\\eta_1} = \\frac{\\dot{\\sigma} - \\dot{\\sigma}_2}{E_1} + \\frac{\\sigma - \\sigma_2}{\\eta_1} = \\frac{\\dot{\\sigma}}{E_1} - \\frac{{E_2 \\cdot \\dot{\\varepsilon}}}{E_1} + \\frac{\\sigma}{η_1} - \\frac{{E_2 \\cdot \\varepsilon}}{\\eta_1}\n",
        "\\end{equation}"
      ],
      "metadata": {
        "id": "S0g1Oyy_-bwu"
      }
    },
    {
      "cell_type": "markdown",
      "source": [
        "Rovnici vynásobíme tuhostí $E_1$ a po úpravě dostáme diferenciální rovnici pro vztah mezi deformací a napětím\n",
        "\n",
        "\\begin{equation}\n",
        "  E_1 \\cdot \\dot{\\varepsilon} + E_2 \\cdot \\dot{\\varepsilon} + \\frac{E_1 \\cdot E_2}{\\eta_1} \\cdot \\varepsilon = \\dot{\\sigma} + \\frac{E_1}{\\eta_1} \\cdot \\sigma\n",
        "\\end{equation}\n",
        "\n",
        "\\begin{equation}\n",
        "  (E_1 + E_2) \\cdot \\dot{\\varepsilon} + \\frac{E_1}{\\eta_1} \\cdot E_2 \\cdot \\varepsilon = \\dot{\\sigma} + \\frac{E_1}{\\eta_1} \\cdot \\sigma\n",
        "\\end{equation}\n",
        "\n",
        "Ještě je vhodné s využitím vztahu pro charakteristický čas $\\tau_1 = \\frac{\\eta_1}{E_1}$ rovnici upravit do výsledného tvaru\n",
        "\n",
        "\\begin{equation}\n",
        "  \\boldsymbol{(E_1 + E_2) \\cdot \\dot{\\varepsilon} + \\frac{E_2}{\\tau_1} \\cdot \\varepsilon = \\dot{\\sigma} + \\frac{1}{\\tau_1} \\cdot \\sigma} \\tag{3}\n",
        "\\end{equation}\n",
        "\n",
        "*Pozn.: pro získání diferenciální rovnice je možné začít i od vztahu (1), můžete si sami ověřit, že dojdete ke stejnému výsledku.*\n"
      ],
      "metadata": {
        "id": "roQfR4KkpYFi"
      }
    },
    {
      "cell_type": "markdown",
      "source": [
        "**Určení funkce poddajnosti**\n",
        "\n",
        "Předpokládáme dotvarovací zkoušku s konstantní hodnotou napětí $\\hat\\sigma$ od času $t = 0$, tedy s průběhem napětí $\\sigma(t) = \\hat\\sigma \\cdot H(t)$.\n",
        "\n",
        "Řešení diferenciální rovnice (3) získáme jako součet řešení homegenního a partikulárního $\\varepsilon(t) = \\varepsilon_H(t) + \\varepsilon_P(t)$.\n",
        "Nejprve vyřešíme příslušnou homogenní rovnici  \n",
        "\\begin{equation}\n",
        "  (E_1 + E_2) \\cdot \\dot{\\varepsilon} + \\frac{E_2}{\\tau_1} \\cdot \\varepsilon = 0\n",
        "\\end{equation}\n",
        "přičemž její řešení předpokládáme ve tvaru\n",
        "\\begin{equation}\n",
        "  \\varepsilon_H(t) = C \\cdot e^{\\lambda t}\n",
        "\\end{equation}\n",
        "po zderivování\n",
        "\\begin{equation}\n",
        "  \\dot{\\varepsilon}_H(t) = C \\cdot \\lambda e^{\\lambda t}\n",
        "\\end{equation}\n",
        "\n",
        "Předpokládané řešení a jeho derivaci dosadíme do homogenní rovnice a dopočteme hodnotu parametru $\\lambda$\n",
        "\\begin{equation}\n",
        "  (E_1 + E_2) \\cdot C \\cdot \\lambda e^{\\lambda t} + \\frac{E_2}{\\tau_1} C \\cdot e^{\\lambda t} = 0\n",
        "\\end{equation}\n",
        "\n",
        "\\begin{equation}\n",
        "  C \\cdot e^{\\lambda t} \\left(\\lambda(E_1 + E_2) + \\frac{E_2}{\\tau_1} \\right) = 0\n",
        "\\end{equation}\n",
        "\n",
        "\\begin{equation}\n",
        "  \\lambda(E_1 + E_2) + \\frac{E_2}{\\tau_1} = 0\n",
        "\\end{equation}\n",
        "\n",
        "\\begin{equation}\n",
        "  \\lambda = \\frac{-E_2}{\\tau_1(E_1 + E_2)}\n",
        "\\end{equation}\n",
        "\n",
        "Homogenní řešení má tedy tvar\n",
        "\\begin{equation}\n",
        "  \\varepsilon_H(t) = C \\cdot e^{-\\frac{E_2}{\\tau_1(E_1 + E_2)}t}\n",
        "\\end{equation}\n",
        "\n",
        "Pro konstantní napětí je pravá strana rovnice (3) konstantní a proto i partikulární řešení bude konstanta $\\varepsilon_P = konst.$\n",
        "Po dosazení do rovnnice (3)\n",
        "\n",
        "\\begin{equation}\n",
        "  \\frac{E_2}{\\tau_1} \\cdot \\varepsilon_P = 0 + \\frac{\\hat\\sigma}{\\tau_1}\n",
        "\\end{equation}\n",
        "\n",
        "\\begin{equation}\n",
        "  \\varepsilon_P(t) = \\frac{\\hat\\sigma}{E_2}\n",
        "\\end{equation}\n",
        "\n",
        "Součtem homogenního a partikulárního řešení tedy dostáváme\n",
        "\n",
        "\\begin{equation}\n",
        "  \\varepsilon(t) = C \\cdot e^{-\\frac{E_2}{\\tau_1(E_1 + E_2)}t} + \\frac{\\hat\\sigma}{E_2}\n",
        "\\end{equation}\n",
        "\n",
        "Pro určení konstanty $C$ využijeme počáteční podmínku pro hodnotu deformace v čase $t = 0$, tedy v okamžiku vnesení zatížení. Při okamžitém zatížení dojde pouze k deformaci pružin, deformace tlumiče bude nulová, model je tedy pro čas $t = 0$ možné zredukovat na paralelní zapojení pružin a proto\n",
        "\n",
        "\\begin{equation}\n",
        "  \\varepsilon(0) = \\frac{\\hat\\sigma}{E_1 + E_2}\n",
        "\\end{equation}\n",
        "\n",
        "\\begin{equation}\n",
        "  C \\cdot 1 + \\frac{\\hat\\sigma}{E_2} = \\frac{\\hat\\sigma}{E_1 + E_2}\n",
        "\\end{equation}\n",
        "\n",
        "Odtud vyjádříme konstantu C\n",
        "\\begin{equation}\n",
        "  C = {\\hat\\sigma} \\cdot \\left(\\frac{1}{E_1 + E_2} - \\frac{1}{E_2} \\right)\n",
        "\\end{equation}\n",
        "\n",
        "a po dosazení dostáváme výsledné řešení diferenciální rovnice ve tvaru\n",
        "\\begin{equation}\n",
        "  \\varepsilon(t) = {\\hat\\sigma} \\cdot \\left(\\frac{1}{E_1 + E_2} - \\frac{1}{E_2} \\right) \\cdot e^{-\\frac{E_2}{\\tau_1(E_1 + E_2)}t} + \\frac{\\hat\\sigma}{E_2}\n",
        "\\end{equation}\n",
        "\n",
        "Pro získání funkce poddajnosti je potřeba získaný vztah pro vývoj deformace pouze vydělit vneseným zatížením $\\hat\\sigma$\n",
        "\n",
        "\\begin{equation}\n",
        "  J(t) = \\left(\\frac{1}{E_1 + E_2} - \\frac{1}{E_2} \\right) \\cdot e^{-\\frac{E_2}{\\tau_1(E_1 + E_2)}t} + \\frac{1}{E_2}\n",
        "\\end{equation}\n"
      ],
      "metadata": {
        "id": "5h9oQuF_-Xls"
      }
    },
    {
      "cell_type": "markdown",
      "source": [
        "**Relaxační funkce**\n",
        "\n",
        "Při relaxační zkoušce je model v čase t=0 zatížen konstantní hodnotou deformace $\\hat\\varepsilon$, tedy\n",
        "\n",
        "\\begin{equation}\n",
        "  \\varepsilon(t) = \\hat\\varepsilon \\cdot H(t)\n",
        "\\end{equation}\n",
        "\n",
        "Zjednodušeně by v tomto případě bylo možné relaxační funkci určit jako součet dvou relaxačních funkcí pro jednotlivé větve modelu, tedy jako součet relaxační funkce pro Maxwellův článek (horní větev) a relaxační funkce pro samotnou pružinu (dolní větev modelu).\n",
        "\n",
        "My zde ale ukážeme získání relaxační funkce řešením diferenciální rovnice pro vztah mezi napětím a deformací pro kompletní reologický model dle zadání, tedy analogicky s postupem pro získání funkce poddajnosti.\n",
        "\n",
        "Pro konstantní průběh deformace se rovnice (3) zjednoduší na tvar\n",
        "\n",
        "\\begin{equation}\n",
        "  \\dot{\\sigma} + \\frac{1}{\\tau_1} \\cdot \\sigma = \\frac{E_2}{\\tau_1} \\cdot \\hat\\varepsilon\n",
        "\\end{equation}\n",
        "\n",
        "Opět řešíme nejprve příslušnou homogenní rovnici\n",
        "\n",
        "\\begin{equation}\n",
        "  \\dot{\\sigma} + \\frac{1}{\\tau_1} \\cdot \\sigma = 0\n",
        "\\end{equation}\n",
        "\n",
        "Pro její řešení platí\n",
        "\\begin{equation}\n",
        "  \\sigma_H(t) = C \\cdot e^{\\lambda t}\n",
        "\\end{equation}\n",
        "\n",
        "\\begin{equation}\n",
        "  \\dot{\\sigma}_H(t) = C \\cdot \\lambda \\cdot e^{\\lambda t}\n",
        "\\end{equation}\n",
        "\n",
        "Dosadíme do homegenní diferenciální rovnice\n",
        "\n",
        "\\begin{equation}\n",
        "  C \\cdot \\lambda \\cdot e^{\\lambda t} + \\frac{1}{\\tau_1} \\cdot C \\cdot e^{\\lambda t} = 0\n",
        "\\end{equation}\n",
        "\n",
        "\\begin{equation}\n",
        "  C \\cdot \\lambda \\cdot e^{\\lambda t} + \\frac{1}{\\tau_1} \\cdot C \\cdot e^{\\lambda t} = 0\n",
        "\\end{equation}\n",
        "\n",
        "\\begin{equation}\n",
        "  C \\cdot e^{\\lambda t} \\left(\\lambda + \\frac{1}{\\tau_1} \\right) = 0 \\quad \\Rightarrow \\quad \\lambda = -\\frac{1}{\\tau_1}\n",
        "\\end{equation}\n",
        "\n",
        "a pro homogenní řešení dostáváme\n",
        "\\begin{equation}\n",
        "  \\sigma_H(t) = C \\cdot e^{-\\frac{t}{\\tau_1}}\n",
        "\\end{equation}\n",
        "\n"
      ],
      "metadata": {
        "id": "5oERDHcSUsn9"
      }
    },
    {
      "cell_type": "markdown",
      "source": [
        "Dále vyřešíme partikulární část řešení pro konstantní pravou stranu\n",
        "\n",
        "\\begin{equation}\n",
        "  \\sigma_P(t) = \\hat\\varepsilon = konst.\n",
        "\\end{equation}\n",
        "\n",
        "\\begin{equation}\n",
        "  \\dot{\\sigma}_P(t) = 0\n",
        "\\end{equation}\n",
        "\n",
        "Dosadíme do rovnice (4) a vyjádříme partikulární řešení\n",
        "\n",
        "\\begin{equation}\n",
        "  0 + \\frac{1}{\\tau_1} \\cdot \\sigma_P = \\frac{E_2}{\\tau_1} \\cdot \\hat\\varepsilon\n",
        "\\end{equation}\n",
        "\n",
        "\\begin{equation}\n",
        "  \\sigma_P(t) = E_2 \\cdot \\hat\\varepsilon\n",
        "\\end{equation}\n"
      ],
      "metadata": {
        "id": "L8RDmFhd5d_j"
      }
    },
    {
      "cell_type": "markdown",
      "source": [
        "Celkové řešení tedy máme ve tvaru\n",
        "\n",
        "\\begin{equation}\n",
        "  \\sigma(t) = \\sigma_P(t) +\\sigma_H(t) = C \\cdot e^{-\\frac{t}{\\tau_1}} + E_2 \\cdot \\hat\\varepsilon\n",
        "\\end{equation}\n",
        "\n"
      ],
      "metadata": {
        "id": "px8RE1pm4efU"
      }
    },
    {
      "cell_type": "markdown",
      "source": [
        "Integrační konstantu určíme z počáteční podmínky pro napětí v čase $t = 0$ kdy dojde k zatížení předepsanou deformací $\\hat\\varepsilon$. Tlumič není schopen okamžité deformace, proto deformace v obou pružinách bude rovna deformaci $\\hat\\varepsilon$ a pro celkové napětí platí\n",
        "\n",
        "\\begin{equation}\n",
        "  \\sigma(0) = (E_1 + E_2) \\cdot \\hat\\varepsilon = C \\cdot 1 + E_2 \\cdot \\hat\\varepsilon\n",
        "\\end{equation}\n",
        "\n",
        "\\begin{equation}\n",
        "  C = E_1 \\cdot \\hat\\varepsilon\n",
        "\\end{equation}\n",
        "\n",
        "Výsledný tvar řešení diferenciální rovnice (4) je\n",
        "\n",
        "\\begin{equation}\n",
        "  \\sigma(t) = E_1 \\cdot \\hat\\varepsilon \\cdot e^{-\\frac{t}{\\tau_1}} + E_2 \\cdot \\hat\\varepsilon\n",
        "\\end{equation}"
      ],
      "metadata": {
        "id": "lgkG3STlF3y9"
      }
    },
    {
      "cell_type": "markdown",
      "source": [
        "Po vydělení vnesenou deformací $\\hat\\varepsilon$ získáváme relaxační funkci\n",
        "\n",
        "\\begin{equation}\n",
        "  R(t) = E_1 \\cdot e^{-\\frac{t}{\\tau_1}} + E_2\n",
        "\\end{equation}\n"
      ],
      "metadata": {
        "id": "HnLnu2Pr5vUG"
      }
    },
    {
      "cell_type": "markdown",
      "source": [
        "Všimněte si, že získaná relaxační funkce skutečně odpovídá součtu relaxační funkce pro Maxwellův článek (sériové spojení pružiny a tlumiče) a relaxační funkce pro pružinu.\n",
        "Jelikož relaxační funkce odpovídá funkcím napětí, platí obecné pravidlo, že v případech, kdy je celkové napětí dáno součtem dílčích napětí (modely s více paralelně spojenými články), je i celková relaxační funkce dána součtem dílčích relaxačních funkcí.\n",
        "Tato vlastnost umožňuje v některých případech převést komplikované řešení složitého modelu na řešením několika jednodušších úloh.\n",
        "\n",
        "*Obdobně platí, že pro modely, kde je celková deformace dána součtem dílčích deformací (sériové zapojení více článků) odpovídá i celková funkce poddajnosti součtu dílčích funkcí poddajnosti.*"
      ],
      "metadata": {
        "id": "Z4lBdeAn6ToK"
      }
    }
  ]
}