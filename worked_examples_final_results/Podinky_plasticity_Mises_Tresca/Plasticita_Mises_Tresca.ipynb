{
  "cells": [
    {
      "cell_type": "markdown",
      "id": "m2bUcoAxo8ac",
      "metadata": {
        "id": "m2bUcoAxo8ac"
      },
      "source": [
        "# <center>Tato studijní pomůcka vznikla za podpory Inovačního projektu FSv ČVUT č. 15 \"Inovativní pomůcky pro předměty Přetváření a porušování materiálů\".</center>\n",
        "<center>(c) 2024 Lenka Dohnalová <i>(lenka.dohnalova@fsv.cvut.cz)</i>, Petr Havlásek <i>(petr.havlasek@cvut.cz)</i>, Milan Jirásek <i>(milan.jirasek@cvut.cz)</i></center>\n",
        "\n",
        "***\n",
        "# Plasticita - Podmínky plasticity - Mises, Tresca"
      ]
    },
    {
      "cell_type": "markdown",
      "id": "Yt7Ka3O2o8ah",
      "metadata": {
        "id": "Yt7Ka3O2o8ah"
      },
      "source": [
        "## Zadání\n",
        "\n",
        "Dva vzorky tvaru krychle o hraně s počáteční délkou $H = 200$ mm jsou zatěžovány postupně narůstajícími silami $F_1$, $F_2$ a $F_3$. Po celou dobu zatěžování jsou síly u obou vzorků udržovány v konstantním poměru $F_1:F_2:F_3 = 2:-4:5$.\n",
        "\n",
        "První vzorek je z materiálu, jehož chování lze popsat pomocí ideálně pružnoplastického modelu s Misesovou podmínkou plasticity, druhý vzorek je z materiálu, jehož chování lze popsat pomocí ideálně pružnoplastického modelu s Trescovou podmínkou plasticity. Oba materiály mají stejnou hodnotu meze kluzu ve smyku.\n",
        "\n",
        "Určete, který ze vzorků během zatěžování dosáhne plastického stavu dříve. (U obou vzorků je během zkoušky zatížení zvyšováno stejnou rychlostí.)\n",
        "\n",
        "Dále určete jednotlivé složky deformace prvního vzorku v okamžiku, kdy tento vzorek dosáhne plastického stavu, pokud znáte jeho objemovou deformaci $\\varepsilon_V = 2,\\!4$ promile a Poissonův součinitel $\\nu=0.25$.\n",
        "\n",
        "*Poznámka: Misesova funkce plasticity má tvar  \n",
        "$f(\\sigma)=\\sqrt{J_2}-\\tau_0$.  \n",
        "Invariant $J_2$ je možné vyjádřit např. jako  \n",
        "$J_2=\\frac{1}{6}[(\\sigma_1-\\sigma_2)^2+(\\sigma_1-\\sigma_3)^2+(\\sigma_2-\\sigma_3)^2]$.  \n",
        "Trescova funkce plasticity má tvar  \n",
        "$f(\\sigma)=\\tau_{max}(\\sigma)-\\tau_0$.*\n"
      ]
    },
    {
      "cell_type": "code",
      "source": [
        "from IPython.display import display, Image\n",
        "display(Image(filename=\"plasticita_kostka.png\", width=450))"
      ],
      "metadata": {
        "colab": {
          "base_uri": "https://localhost:8080/",
          "height": 393
        },
        "id": "jT4l73azukeH",
        "outputId": "f79a2e15-d6a3-438e-e6b1-b9cd88491cb9"
      },
      "id": "jT4l73azukeH",
      "execution_count": 23,
      "outputs": [
        {
          "output_type": "display_data",
          "data": {
            "image/png": "[encoded data removed]",
            "text/plain": [
              "<IPython.core.display.Image object>"
            ]
          },
          "metadata": {
            "image/png": {
              "width": 450
            }
          }
        }
      ]
    },
    {
      "cell_type": "markdown",
      "id": "WMvdu4rPo8aj",
      "metadata": {
        "id": "WMvdu4rPo8aj"
      },
      "source": [
        "Import potřebných knihoven"
      ]
    },
    {
      "cell_type": "code",
      "execution_count": 24,
      "id": "Pj9XADrjo8al",
      "metadata": {
        "id": "Pj9XADrjo8al"
      },
      "outputs": [],
      "source": [
        "%matplotlib inline\n",
        "\n",
        "import math\n",
        "import numpy as np\n",
        "\n",
        "from IPython.display import Markdown as md\n",
        "\n",
        "import matplotlib.pyplot as plt\n",
        "\n",
        "from sympy import *\n",
        "import sympy as smp"
      ]
    },
    {
      "cell_type": "markdown",
      "id": "s-ECOm2uo8an",
      "metadata": {
        "id": "s-ECOm2uo8an"
      },
      "source": [
        "## Řešení"
      ]
    },
    {
      "cell_type": "markdown",
      "source": [
        "**Definice proměnných pro symbolické výpočty**"
      ],
      "metadata": {
        "id": "X6n9bKs6KRpI"
      },
      "id": "X6n9bKs6KRpI"
    },
    {
      "cell_type": "code",
      "source": [
        "# Použité symboly\n",
        "sigma = smp.symbols('sigma', real=True)  # napětí\n",
        "E = smp.symbols('E', real=True, positive=True)  # modul pružnosti\n",
        "nu = smp.symbols('\\nu', real=True, positive=True)  # Poissonův součinitel\n",
        "\n",
        "# Složky napětí\n",
        "sigma_x = smp.symbols('\\sigma_x', real=True)  # napětí ve směru osy x\n",
        "sigma_y = smp.symbols('\\sigma_y', real=True)  # napětí ve směru osy y\n",
        "sigma_z = smp.symbols('\\sigma_z', real=True)  # napětí ve směru osy z\n",
        "\n",
        "# Složky deformace\n",
        "eps_x = smp.symbols('\\varepsilon_x', real=True)  # deformace ve směru osy x\n",
        "eps_y = smp.symbols('\\varepsilon_y', real=True)  # deformace ve směru osy y\n",
        "eps_z = smp.symbols('\\varepsilon_z', real=True)  # deformace ve směru osy z\n",
        "eps_V = smp.symbols('eps_{V}', real=True)  # objemová deformace vzorku"
      ],
      "metadata": {
        "id": "99y99b1aKYOV"
      },
      "id": "99y99b1aKYOV",
      "execution_count": 25,
      "outputs": []
    },
    {
      "cell_type": "markdown",
      "id": "xx1xNfFFo8ar",
      "metadata": {
        "id": "xx1xNfFFo8ar"
      },
      "source": [
        "**Konkrétní hodnoty dle zadání**\n",
        "\n"
      ]
    },
    {
      "cell_type": "markdown",
      "source": [
        "### Porovnání dosažení plastického stavu"
      ],
      "metadata": {
        "id": "OZVPpdo4mjIw"
      },
      "id": "OZVPpdo4mjIw"
    },
    {
      "cell_type": "markdown",
      "source": [
        "**zatěžovací program**\n",
        "$\\sigma_x:\\sigma_y:\\sigma_z = 2:-4:5$"
      ],
      "metadata": {
        "id": "YeAX9b2OkXVY"
      },
      "id": "YeAX9b2OkXVY"
    },
    {
      "cell_type": "code",
      "source": [
        "sigma_x = 2*sigma\n",
        "sigma_y = -4*sigma\n",
        "sigma_z = 5*sigma\n",
        "\n",
        "# MISES:\n",
        "#$J_2=\\frac{1}{6}[(\\sigma_1-\\sigma_2)^2+(\\sigma_1-\\sigma_3)^2+(\\sigma_2-\\sigma_3)^2]$\n",
        "J2 = (1/6) * ((sigma_x - sigma_y)**2 + (sigma_x - sigma_z)**2 + (sigma_y - sigma_z)**2)\n",
        "J2_symplify = J2.simplify()\n",
        "print(J2_symplify)\n",
        "\n",
        "# tau_0 = sqrt(J2)\n",
        "tau_0_M = smp.sqrt(J2)\n",
        "tau_0_M_symplify = tau_0_M.simplify()\n",
        "print(tau_0_M_symplify)\n",
        "\n",
        "\n",
        "# TRESCA:\n",
        "# $f(\\sigma)=\\tau_{max}(\\sigma)-\\tau_0 = 0$\n",
        "# \\tau_max = (sigma_max - sigma_min) / 2\n",
        "tau_max = (sigma_z - sigma_y) / 2\n",
        "tau_0_T = tau_max\n",
        "tau_0_T_symplify = tau_0_T.simplify()\n",
        "print(tau_0_T_symplify)\n",
        "\n",
        "# Porovnání mezi Mises a Tresca (pro jednotkovou hodnotu sigma)\n",
        "val_Mises = tau_0_M.subs({sigma: 1}).evalf()\n",
        "val_Tresca = tau_0_T.subs({sigma: 1}).evalf()\n",
        "print(f\"Mises = {val_Mises:.3f}\")\n",
        "print(f\"Tresca = {val_Tresca:.3f}\")\n",
        "\n",
        "print(\"\\033[1mDruhý vzorek s Misesovou podmínkou plasticity dosáhne plastického stavu dříve.\\033[0m\")"
      ],
      "metadata": {
        "colab": {
          "base_uri": "https://localhost:8080/"
        },
        "id": "EI2gXgboAnhv",
        "outputId": "9f0d0321-7446-4658-f2a6-f4a6e1be90ad"
      },
      "id": "EI2gXgboAnhv",
      "execution_count": 26,
      "outputs": [
        {
          "output_type": "stream",
          "name": "stdout",
          "text": [
            "21.0*sigma**2\n",
            "4.58257569495584*Abs(sigma)\n",
            "9*sigma/2\n",
            "Mises = 4.583\n",
            "Tresca = 4.500\n",
            "\u001b[1mDruhý vzorek s Misesovou podmínkou plasticity dosáhne plastického stavu dříve.\u001b[0m\n"
          ]
        }
      ]
    },
    {
      "cell_type": "markdown",
      "id": "OC3qbinno8a3",
      "metadata": {
        "id": "OC3qbinno8a3"
      },
      "source": [
        "### Složky deformace 1. vzorku"
      ]
    },
    {
      "cell_type": "code",
      "source": [
        "eps_V = eps_x + eps_y + eps_z\n",
        "val_eps_V = 2.4/1000\n",
        "\n",
        "nu = 0.25\n",
        "eps_x = 1/E * (sigma_x - nu * (sigma_y + sigma_z))\n",
        "eps_x_symplify = eps_x.simplify()\n",
        "print(f\"eps_x = {eps_x_symplify}\")\n",
        "eps_y = 1/E * (sigma_y - nu * (sigma_x + sigma_z))\n",
        "eps_y_symplify = eps_y.simplify()\n",
        "print(f\"eps_y = {eps_y_symplify}\")\n",
        "eps_z = 1/E * (sigma_z - nu * (sigma_x + sigma_y))\n",
        "eps_z_symplify = eps_z.simplify()\n",
        "print(f\"eps_z = {eps_z_symplify}\")\n",
        "# z těchto vyjádření známe poměr složek, víme tedy v jakém poměru mezi složky rozdělit objemovou deformaci\n",
        "\n",
        "coef_x = eps_x_symplify.subs({sigma: 1, E: 1})\n",
        "coef_y = eps_y_symplify.subs({sigma: 1, E: 1})\n",
        "coef_z = eps_z_symplify.subs({sigma: 1, E: 1})\n",
        "print(f\"coef_x = {coef_x:.3f}\")\n",
        "print(f\"coef_y = {coef_y:.3f}\")\n",
        "print(f\"coef_z = {coef_z:.3f}\")\n",
        "\n",
        "coef = val_eps_V / (coef_x + coef_y + coef_z)\n",
        "print(f\"coef = {coef:.3f}\")\n",
        "\n",
        "val_eps_x = coef_x * coef\n",
        "val_eps_y = coef_y * coef\n",
        "val_eps_z = coef_z * coef\n",
        "\n",
        "print(\"\\n\")\n",
        "print(\"\\033[1mSložky deformace 1. vzorku při dosažení plastického stavu:\\033[0m\")\n",
        "print(f\"\\033[1meps_x = {val_eps_x:.6f}\\033[0m\")\n",
        "print(f\"\\033[1meps_y = {val_eps_y:.6f}\\033[0m\")\n",
        "print(f\"\\033[1meps_z = {val_eps_z:.6f}\\033[0m\")\n",
        "\n"
      ],
      "metadata": {
        "colab": {
          "base_uri": "https://localhost:8080/"
        },
        "id": "qTh2IFFJm4Yo",
        "outputId": "9af85bca-eb06-4856-b798-862934eeb134"
      },
      "id": "qTh2IFFJm4Yo",
      "execution_count": 27,
      "outputs": [
        {
          "output_type": "stream",
          "name": "stdout",
          "text": [
            "eps_x = 1.75*sigma/E\n",
            "eps_y = -5.75*sigma/E\n",
            "eps_z = 5.5*sigma/E\n",
            "coef_x = 1.750\n",
            "coef_y = -5.750\n",
            "coef_z = 5.500\n",
            "coef = 0.002\n",
            "\n",
            "\n",
            "\u001b[1mSložky deformace 1. vzorku při dosažení plastického stavu:\u001b[0m\n",
            "\u001b[1meps_x = 0.002800\u001b[0m\n",
            "\u001b[1meps_y = -0.009200\u001b[0m\n",
            "\u001b[1meps_z = 0.008800\u001b[0m\n"
          ]
        }
      ]
    }
  ],
  "metadata": {
    "colab": {
      "provenance": []
    },
    "kernelspec": {
      "display_name": "Python 3",
      "language": "python",
      "name": "python3"
    },
    "language_info": {
      "codemirror_mode": {
        "name": "ipython",
        "version": 3
      },
      "file_extension": ".py",
      "mimetype": "text/x-python",
      "name": "python",
      "nbconvert_exporter": "python",
      "pygments_lexer": "ipython3",
      "version": "3.6.5"
    }
  },
  "nbformat": 4,
  "nbformat_minor": 5
}