{
  "cells": [
    {
      "cell_type": "markdown",
      "id": "m2bUcoAxo8ac",
      "metadata": {
        "id": "m2bUcoAxo8ac"
      },
      "source": [
        "# <center>Tato studijní pomůcka vznikla za podpory Inovačního projektu FSv ČVUT č. 15 \"Inovativní pomůcky pro předměty Přetváření a porušování materiálů\".</center>\n",
        "<center>(c) 2024 Lenka Dohnalová <i>(lenka.dohnalova@fsv.cvut.cz)</i>, Petr Havlásek <i>(petr.havlasek@cvut.cz)</i>, Milan Jirásek <i>(milan.jirasek@cvut.cz)</i></center>\n",
        "\n",
        "***\n",
        "# Plasticita - Podmínky plasticity - Drucker-Prager"
      ]
    },
    {
      "cell_type": "markdown",
      "id": "Yt7Ka3O2o8ah",
      "metadata": {
        "id": "Yt7Ka3O2o8ah"
      },
      "source": [
        "## Zadání\n",
        "\n",
        "Uvažujte ideálně pružnoplastický materiál popsaný Druckerovou-Pragerovou podmínkou plasticity a sdruženým zákonem plastického přetváření.  \n",
        "Modul pružnosti je 30 GPa a Poissonův součinitel 0,25.  \n",
        "Odvoďte parametry funkce plasticity tak, aby za jednoosého tahu k plastickému přetváření došlo při napětí 5 MPa a za jednoosého tlaku při tlakovém napětí o velikosti 12 MPa.  \n",
        "Dále uvažujte zatěžovací program v trojosém tlaku s poměrem napětí\n",
        "$\\sigma_x:\\sigma_y:\\sigma_z = 5:2:1$.\n",
        "\n",
        "Určete hodnoty složek napětí a deformace v okamžiku, kdy začne plastické přetváření, a dále v okamžiku, kdy složka plastické deformace $\\varepsilon_{px}$ dosáhne hodnoty -2 promile.\n",
        "\n",
        "*Poznámka: Druckerova-Pragerova funkce plasticity má tvar:*  \n",
        "$$f(\\sigma)=3\\alpha_{\\phi}\\sigma_m+ \\sqrt{J_2}-\\tau_0.$$\n",
        "*Invariant $J_2$ je možné vyjádřit například jako:*  \n",
        "$$J_2=(s_1^2+s_2^2+s_3^2)/2.$$\n",
        "\n"
      ]
    },
    {
      "cell_type": "markdown",
      "id": "WMvdu4rPo8aj",
      "metadata": {
        "id": "WMvdu4rPo8aj"
      },
      "source": [
        "Import potřebných knihoven"
      ]
    },
    {
      "cell_type": "code",
      "execution_count": 40,
      "id": "Pj9XADrjo8al",
      "metadata": {
        "id": "Pj9XADrjo8al"
      },
      "outputs": [],
      "source": [
        "%matplotlib inline\n",
        "\n",
        "import math\n",
        "import numpy as np\n",
        "\n",
        "from IPython.display import Markdown as md\n",
        "\n",
        "import matplotlib.pyplot as plt\n",
        "\n",
        "from sympy import *\n",
        "import sympy as smp"
      ]
    },
    {
      "cell_type": "markdown",
      "id": "s-ECOm2uo8an",
      "metadata": {
        "id": "s-ECOm2uo8an"
      },
      "source": [
        "## Řešení"
      ]
    },
    {
      "cell_type": "markdown",
      "source": [
        "**Definice proměnných pro symbolické výpočty**"
      ],
      "metadata": {
        "id": "X6n9bKs6KRpI"
      },
      "id": "X6n9bKs6KRpI"
    },
    {
      "cell_type": "code",
      "source": [
        "alpha_phi = smp.symbols('\\alpha_{\\phi}', real=True) # součinitel vnitřního tření\n",
        "tau_0 = smp.symbols('\\tau_0', real=True) # mez kluzu ve smyku\n",
        "sigma = smp.symbols('\\sigma', real=True) # napětí\n",
        "sigma_x = smp.symbols('\\sigma_x', real=True)  # napětí ve směru osy x\n",
        "sigma_y = smp.symbols('\\sigma_y', real=True)  # napětí ve směru osy y\n",
        "sigma_z = smp.symbols('\\sigma_z', real=True)  # napětí ve směru osy z\n",
        "eps = smp.symbols('\\varepsilon', real=True) # deformace\n",
        "eps_x = smp.symbols('\\varepsilon_x', real=True)  # deformace ve směru osy x\n",
        "eps_y = smp.symbols('\\varepsilon_y', real=True)  # deformace ve směru osy y\n",
        "eps_z = smp.symbols('\\varepsilon_z', real=True)  # deformace ve směru osy z\n",
        "eps_V = smp.symbols('eps_{V}', real=True)  # objemová deformace vzorku\n",
        "sigma_t = smp.symbols('\\sigma_t', real=True)  # mez kluzu v jednoosém tahu\n",
        "sigma_c = smp.symbols('\\sigma_c', real=True)  # mez kluzu v jednoosém tlaku\n",
        "\n",
        "E = smp.symbols('E', real=True, positive=True)  # modulu pružnosti\n",
        "nu = smp.symbols('\\nu', real=True, positive=True)  # Poissonův součinitel\n",
        "\n",
        "J2 = smp.symbols('J2', real=True)\n",
        "lmbd_ = smp.symbols('\\lambda', real=True)\n",
        "eps_px = smp.symbols('\\varepsilon_{px}', real=True)\n",
        "s = smp.symbols('s', real=True)"
      ],
      "metadata": {
        "id": "99y99b1aKYOV"
      },
      "id": "99y99b1aKYOV",
      "execution_count": 41,
      "outputs": []
    },
    {
      "cell_type": "markdown",
      "id": "xx1xNfFFo8ar",
      "metadata": {
        "id": "xx1xNfFFo8ar"
      },
      "source": [
        "**Konkrétní hodnoty dle zadání**\n",
        "\n"
      ]
    },
    {
      "cell_type": "code",
      "execution_count": 42,
      "id": "CYhLoZlko8ax",
      "metadata": {
        "id": "CYhLoZlko8ax"
      },
      "outputs": [],
      "source": [
        "val_E = 30000  # [MPa]\n",
        "val_nu = 0.25\n",
        "val_sigma_t = 5 # [MPa]\n",
        "val_sigma_c = -12 # [MPa]\n",
        "val_eps_px = -0.002 #\n"
      ]
    },
    {
      "cell_type": "markdown",
      "id": "OC3qbinno8a3",
      "metadata": {
        "id": "OC3qbinno8a3"
      },
      "source": [
        "### Odvození parametrů funkce plasticity pro zadané meze kluzu v jednoosém namáhání\n"
      ]
    },
    {
      "cell_type": "code",
      "source": [
        "# Definice středního napětí sigma_m\n",
        "sigma_m = smp.Rational(1, 3) * (sigma_x + sigma_y + sigma_z)\n",
        "\n",
        "# $f(\\sigma)=3\\alpha_{\\phi}\\sigma_m+ \\sqrt{J_2}-\\tau_0.$\n",
        "f_sigma = 3 * alpha_phi * sigma_m + smp.sqrt(J2) - tau_0\n",
        "\n",
        "# Deviátorické složky napětí s1, s2, s3\n",
        "s1 = sigma_x - sigma_m\n",
        "s2 = sigma_y - sigma_m\n",
        "s3 = sigma_z - sigma_m\n",
        "\n",
        "# Výpočet invarianty J2\n",
        "J2 = (s1**2 + s2**2 + s3**2) / 2\n",
        "\n",
        "# Funkce plasticity pro sigma_t a sigma_c\n",
        "f_sigma_t = 3 * alpha_phi * sigma_m + smp.sqrt(J2) - tau_0\n",
        "f_sigma_c = 3 * alpha_phi * sigma_m + smp.sqrt(J2) - tau_0\n",
        "\n",
        "# Vytvoření rovnic pro sigma_t a sigma_c (pro sigma_t je sigma_x = sigma_t, ostatní jsou 0)\n",
        "podm_sigma_t = smp.Eq(f_sigma_t.subs({sigma_x: sigma_t, sigma_y: 0, sigma_z: 0}), 0)  # pro sigma_t\n",
        "podm_sigma_c = smp.Eq(f_sigma_c.subs({sigma_x: sigma_c, sigma_y: 0, sigma_z: 0}), 0)  # pro sigma_c\n",
        "\n",
        "# Řešení soustavy rovnic pro alpha_phi a tau_0\n",
        "solution = smp.solve([podm_sigma_t, podm_sigma_c], (alpha_phi, tau_0))\n",
        "\n",
        "# Uložení hodnot přímo do proměnných\n",
        "val_alpha_phi = solution[alpha_phi].subs({sigma_t: val_sigma_t, sigma_c: val_sigma_c})\n",
        "val_tau_0 = solution[tau_0].subs({sigma_t: val_sigma_t, sigma_c: val_sigma_c})\n",
        "\n",
        "# Výpis výsledků\n",
        "print(f\"alpha_phi = {val_alpha_phi} = {val_alpha_phi.evalf(3)}\")\n",
        "print(f\"tau_0 = {val_tau_0} = {val_tau_0.evalf(3)} MPa\")\n",
        "\n"
      ],
      "metadata": {
        "colab": {
          "base_uri": "https://localhost:8080/"
        },
        "id": "nuLwphQ_48Ca",
        "outputId": "e8a3992c-4c4d-40c1-d85f-ce0a48051346"
      },
      "id": "nuLwphQ_48Ca",
      "execution_count": 43,
      "outputs": [
        {
          "output_type": "stream",
          "name": "stdout",
          "text": [
            "alpha_phi = 7*sqrt(3)/51 = 0.238\n",
            "tau_0 = 40*sqrt(3)/17 = 4.08 MPa\n"
          ]
        }
      ]
    },
    {
      "cell_type": "markdown",
      "source": [
        "### zatěžovací program\n",
        "$\\sigma_x:\\sigma_y:\\sigma_z = 5:2:1$"
      ],
      "metadata": {
        "id": "YeAX9b2OkXVY"
      },
      "id": "YeAX9b2OkXVY"
    },
    {
      "cell_type": "code",
      "source": [
        "sigma_x = 5*sigma\n",
        "sigma_y = 2*sigma\n",
        "sigma_z = 1*sigma\n",
        "\n",
        "# Definice středního napětí sigma_m\n",
        "sigma_m = smp.Rational(1, 3) * (sigma_x + sigma_y + sigma_z)\n",
        "\n",
        "# Deviatorické složky napětí s1, s2, s3\n",
        "s1 = sigma_x - sigma_m\n",
        "s2 = sigma_y - sigma_m\n",
        "s3 = sigma_z - sigma_m\n",
        "\n",
        "# Výpočet invariantu J2\n",
        "J2 = (s1**2 + s2**2 + s3**2) / 2\n",
        "\n",
        "# Funkce plasticity pro sigma_t a sigma_c\n",
        "f_sigma = 3 * alpha_phi * sigma_m + smp.sqrt(J2) - tau_0\n",
        "\n",
        "# Řešení pro neznámou sigma\n",
        "sigma_solution = smp.solve(f_sigma.subs({alpha_phi: val_alpha_phi, tau_0: val_tau_0}), sigma)\n",
        "\n",
        "# Zobrazení výsledků\n",
        "# display(sigma_solution)\n",
        "\n",
        "# Výběr záporné hodnoty sigma (dle zadání zatížení tlakem)\n",
        "if len(sigma_solution) > 1:\n",
        "    sigma_val = [val.evalf() for val in sigma_solution if val.evalf() < 0][0]\n",
        "else:\n",
        "    sigma_val = sigma_solution[0].evalf()\n",
        "\n",
        "# Výpis hodnoty sigma\n",
        "print(f\"Hodnota sigma: {sigma_val} MPa\")\n",
        "\n",
        "# Dopočet složek napětí sigma_x, sigma_y, sigma_z\n",
        "val_sigma_x = sigma_x.subs(sigma, sigma_val)\n",
        "val_sigma_y = sigma_y.subs(sigma, sigma_val)\n",
        "val_sigma_z = sigma_z.subs(sigma, sigma_val)\n",
        "\n",
        "print(\"\\n\")\n",
        "print(f\"sigma_x = {val_sigma_x:.3f} MPa\")\n",
        "print(f\"sigma_y = {val_sigma_y:.3f} MPa\")\n",
        "print(f\"sigma_z = {val_sigma_z:.3f} MPa\")\n",
        "\n",
        "# Výpočet složek deformace\n",
        "val_eps_x = (1 / val_E) * (val_sigma_x - val_nu * (val_sigma_y + val_sigma_z))\n",
        "val_eps_y = (1 / val_E) * (val_sigma_y - val_nu * (val_sigma_x + val_sigma_z))\n",
        "val_eps_z = (1 / val_E) * (val_sigma_z - val_nu * (val_sigma_x + val_sigma_y))\n",
        "\n",
        "print(\"\\n\")\n",
        "print(f\"eps_x = {val_eps_x:.6f}\")\n",
        "print(f\"eps_y = {val_eps_y:.6f}\")\n",
        "print(f\"eps_z = {val_eps_z:.6f}\")\n"
      ],
      "metadata": {
        "colab": {
          "base_uri": "https://localhost:8080/"
        },
        "id": "EI2gXgboAnhv",
        "outputId": "b1834f40-3b5e-44ef-b1ea-82ca245b60a3"
      },
      "id": "EI2gXgboAnhv",
      "execution_count": 44,
      "outputs": [
        {
          "output_type": "stream",
          "name": "stdout",
          "text": [
            "Hodnota sigma: -22.6655790691571 MPa\n",
            "\n",
            "\n",
            "sigma_x = -113.328 MPa\n",
            "sigma_y = -45.331 MPa\n",
            "sigma_z = -22.666 MPa\n",
            "\n",
            "\n",
            "eps_x = -0.003211\n",
            "eps_y = -0.000378\n",
            "eps_z = 0.000567\n"
          ]
        }
      ]
    },
    {
      "cell_type": "markdown",
      "source": [
        "### Plastické přetváření\n",
        "\n",
        "Pro sdružený zákon plastického přetváření platí:\n",
        "$$\\dot{\\varepsilon}_{p} = \\dot{\\lambda} \\cdot \\frac{\\partial f(\\sigma)}{\\partial \\sigma}$$\n",
        "\n",
        "a pro Drucker-Pragerovu funkci plasticity lze pro jednotlivé složky plastického přetváření odvodit:\n",
        "$$\\dot{\\varepsilon}_{px} = \\dot{\\lambda} \\cdot \\frac{s_x}{2 \\sqrt{J_2}}$$\n",
        "\n",
        "$$\\dot{\\varepsilon}_{py} = \\dot{\\lambda} \\cdot \\frac{s_y}{2 \\sqrt{J_2}}$$\n",
        "\n",
        "$$\\dot{\\varepsilon}_{pz} = \\dot{\\lambda} \\cdot \\frac{s_z}{2 \\sqrt{J_2}}$$\n",
        "\n",
        "Pro danou hodnotu $\\varepsilon_{px}$ můžeme dopočítat hodnotu součinitele plastického přetváření $\\lambda$ ze vztahu:  \n",
        "$$\\lambda = \\frac{2\\ \\varepsilon_{px} \\sqrt{J_2}}{s_x}$$"
      ],
      "metadata": {
        "id": "bYSZieEYNXlm"
      },
      "id": "bYSZieEYNXlm"
    },
    {
      "cell_type": "code",
      "source": [
        "lmbd = 2 * eps_px * smp.sqrt(J2) / s1\n",
        "# numerické vyhodnocení\n",
        "val_lmbd = lmbd.subs({eps_px: val_eps_px, sigma_x: val_sigma_x, sigma_y: val_sigma_y, sigma_z: val_sigma_z}).evalf()\n",
        "print(f\"Součinitel plastického přetváření lambda = {val_lmbd}\")\n",
        "\n",
        "val_s1 = s1.subs({sigma_x: val_sigma_x, sigma_y: val_sigma_y, sigma_z: val_sigma_z}).evalf()\n",
        "#print(f\"s1 = {val_s1}\")\n",
        "val_s2 = s2.subs({sigma_x: val_sigma_x, sigma_y: val_sigma_y, sigma_z: val_sigma_z}).evalf()\n",
        "#print(f\"s2 = {val_s2}\")\n",
        "val_s3 = s3.subs({sigma_x: val_sigma_x, sigma_y: val_sigma_y, sigma_z: val_sigma_z}).evalf()\n",
        "#print(f\"s3 = {val_s3}\")\n",
        "\n",
        "val_J2 = J2.subs({sigma_x: val_sigma_x, sigma_y: val_sigma_y, sigma_z: val_sigma_z}).evalf()\n",
        "#print(f\"J2 = {val_J2}\")\n",
        "\n",
        "val_eps_py = val_lmbd * val_s2 / (2 * smp.sqrt(val_J2))\n",
        "val_eps_pz = val_lmbd * val_s3 / (2 * smp.sqrt(val_J2))\n",
        "\n",
        "print(\"\\n\")\n",
        "print(f\"eps_px = {val_eps_px:.6f}\")\n",
        "print(f\"eps_py = {val_eps_py:.6f}\")\n",
        "print(f\"eps_pz = {val_eps_pz:.6f}\")\n",
        "print(\"\\n\")\n",
        "\n",
        "# kontrola:\n",
        "val_eps_px_check = val_lmbd * val_s1 / (2 * smp.sqrt(val_J2))\n",
        "if abs(val_eps_px_check - val_eps_px) > 1e-5:  # tolerováno malé rozdíly\n",
        "    print(f\"Varování: Vypočítaná hodnota eps_px ({val_eps_px_check}) se liší od původně zadané hodnoty ({val_eps_px})!\")\n",
        "else:\n",
        "    print(f\"Kontrola OK: Vypočítaná hodnota eps_px odpovídá hodnotě dle zadání úlohy.\")"
      ],
      "metadata": {
        "colab": {
          "base_uri": "https://localhost:8080/"
        },
        "id": "9bouue8HRFzX",
        "outputId": "d8720464-7dfb-4030-b419-7d0db13571e9"
      },
      "id": "9bouue8HRFzX",
      "execution_count": 45,
      "outputs": [
        {
          "output_type": "stream",
          "name": "stdout",
          "text": [
            "Součinitel plastického přetváření lambda = 0.00356857028479908\n",
            "\n",
            "\n",
            "eps_px = -0.002000\n",
            "eps_py = 0.000571\n",
            "eps_pz = 0.001429\n",
            "\n",
            "\n",
            "Kontrola OK: Vypočítaná hodnota eps_px odpovídá hodnotě dle zadání úlohy.\n"
          ]
        }
      ]
    }
  ],
  "metadata": {
    "colab": {
      "provenance": []
    },
    "kernelspec": {
      "display_name": "Python 3",
      "language": "python",
      "name": "python3"
    },
    "language_info": {
      "codemirror_mode": {
        "name": "ipython",
        "version": 3
      },
      "file_extension": ".py",
      "mimetype": "text/x-python",
      "name": "python",
      "nbconvert_exporter": "python",
      "pygments_lexer": "ipython3",
      "version": "3.6.5"
    }
  },
  "nbformat": 4,
  "nbformat_minor": 5
}