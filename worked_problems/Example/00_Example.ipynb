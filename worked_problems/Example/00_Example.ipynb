{
 "cells": [
  {
   "cell_type": "markdown",
   "id": "3c9ceccf-2fd7-4342-b829-8acb17df159c",
   "metadata": {},
   "source": [
    "<center>Tato studijní pomůcka vznikla za podpory Inovačního projektu FSv ČVUT č. 15 \"Inovativní pomůcky pro předměty Přetváření a porušování materiálů\".</center>\n",
    "<center>(c) 2024 Lenka Dohnalová <i>(lenka.dohnalova@fsv.cvut.cz)</i>, Petr Havlásek <i>(petr.havlasek@cvut.cz)</i>, Milan Jirásek <i>(milan.jirasek@cvut.cz)</i></center>\n",
    "\n",
    "***\n",
    "# Jednoduché viskoelastické modely"
   ]
  },
  {
   "cell_type": "markdown",
   "id": "c401d290-2a45-4fc7-884f-c04a6133408c",
   "metadata": {
    "tags": []
   },
   "source": [
    "Cheatsheet pro psaní Markdown poznámek<br>\n",
    "https://ingeh.medium.com/markdown-for-jupyter-notebooks-cheatsheet-386c05aeebed<br>\n",
    "https://dynamics-and-control.readthedocs.io/en/latest/0_Getting_Started/Notebook%20introduction.html"
   ]
  },
  {
   "cell_type": "markdown",
   "id": "4320966a-6341-4067-9004-8a1a163abbcf",
   "metadata": {
    "tags": []
   },
   "source": [
    "## Zadání\n",
    "Je zadaný viskoelastický model tvořený třemi pružinami a dvěma tlumiči. \n",
    "1. V semilogaritmickém měřítku sestrojte graf funkce poddajnosti, vyznačte složky odpovídající jednotlivým částem modelu.\n",
    "2. Uvažujte dotvarovací zkoušku při napětí $\\bar{\\sigma} = 20$ MPa. Určete hodnotu napětí ve všech článcích pro okamžik vnesení zatížení. Vypočtěte celkovou deformaci pro okamžik vnesení zatížení a také pro velmu dlouhou dobu trvání zatížení.\n",
    "3. Vypočtěte hodnotu relaxační funkce pro velmi dlouhou dobu trvání zatížení\n",
    "\n",
    "<img src=\"./zadani.png\" title=\"Viskoelastický řetězec\" style=\"width: 400px;margin-left:auto; margin-right:auto\"/>\n",
    "<p style=\"text-align:center\">Obrázek 1: Viskoelastický řetězec</p>\n",
    "\n",
    "\n",
    "**Zadané hodnoty materiálových parametrů:**<br>\n",
    "$E_0 = 20$ GPa<br>\n",
    "$E_1 = 10$ GPa, $\\eta_1 = 10$ GPa$\\cdot$den<br>\n",
    "$E_2 = 5$ GPa, $\\eta_2 = 20$ GPa$\\cdot$den\n",
    "\n",
    "***\n"
   ]
  },
  {
   "cell_type": "markdown",
   "id": "50edd820-feab-4183-a1af-942c66cfffe6",
   "metadata": {
    "tags": []
   },
   "source": [
    "Import potřebných knihoven"
   ]
  },
  {
   "cell_type": "code",
   "execution_count": 50,
   "id": "f2468cc1-837d-4005-8332-ad0124eea5cf",
   "metadata": {
    "tags": []
   },
   "outputs": [
    {
     "name": "stdout",
     "output_type": "stream",
     "text": [
      "Requirement already satisfied: sympy in /home/pedro/.config/jupyterlab-desktop/jlab_server/lib/python3.8/site-packages (1.12)\n",
      "Requirement already satisfied: mpmath>=0.19 in /home/pedro/.config/jupyterlab-desktop/jlab_server/lib/python3.8/site-packages (from sympy) (1.3.0)\n"
     ]
    }
   ],
   "source": [
    "%matplotlib inline\n",
    "\n",
    "import math\n",
    "import numpy as np\n",
    "\n",
    "from IPython.display import Markdown as md\n",
    "\n",
    "import matplotlib.pyplot as plt\n",
    "\n",
    "!pip install sympy\n",
    "from sympy import *\n",
    "import sympy as smp\n"
   ]
  },
  {
   "cell_type": "markdown",
   "id": "186e8c17-bd02-4889-9730-20cc32259b9f",
   "metadata": {},
   "source": [
    "## Řešení"
   ]
  },
  {
   "cell_type": "markdown",
   "id": "a854b8d8-b08c-4603-abcf-a90cea7d0374",
   "metadata": {},
   "source": [
    "### Analytické řešení"
   ]
  },
  {
   "cell_type": "markdown",
   "id": "2e6eb6c4-012c-4bd3-8ed3-6ae42fafefea",
   "metadata": {},
   "source": [
    "**Definice proměnných**"
   ]
  },
  {
   "cell_type": "code",
   "execution_count": 21,
   "id": "145796bd-e79e-4041-9ceb-c0ce3cd1391f",
   "metadata": {
    "tags": []
   },
   "outputs": [],
   "source": [
    "t = smp.symbols('t', real = True, positive = True)\n",
    "\n",
    "E_0 = smp.symbols('E_0', real = True, positive = True)\n",
    "\n",
    "E_1, η_1 = smp.symbols(r'E_1 \\eta_1', real = True, positive = True)\n",
    "τ_1 = η_1/E_1\n",
    "\n",
    "E_2, η_2 = smp.symbols(r'E_2 \\eta_2', real = True, positive = True)\n",
    "τ_2 = η_2/E_2"
   ]
  },
  {
   "cell_type": "markdown",
   "id": "02a19815-aa1b-4beb-8a4c-dec955626083",
   "metadata": {},
   "source": [
    "**Funkce poddajnosti**"
   ]
  },
  {
   "cell_type": "code",
   "execution_count": 23,
   "id": "b4d90593-0c4c-48ca-aa1c-aa5719444c31",
   "metadata": {
    "tags": []
   },
   "outputs": [
    {
     "data": {
      "text/latex": [
       "$\\displaystyle \\frac{1}{E_{2}} - \\frac{e^{- \\frac{E_{2} t}{\\eta_{2}}}}{E_{2}} + \\frac{1}{E_{1}} - \\frac{e^{- \\frac{E_{1} t}{\\eta_{1}}}}{E_{1}} + \\frac{1}{E_{0}}$"
      ],
      "text/plain": [
       "1/E_2 - exp(-E_2*t/\\eta_2)/E_2 + 1/E_1 - exp(-E_1*t/\\eta_1)/E_1 + 1/E_0"
      ]
     },
     "execution_count": 23,
     "metadata": {},
     "output_type": "execute_result"
    }
   ],
   "source": [
    "J_0 = 1/E_0\n",
    "J_1 = 1/E_1 * ( 1 - smp.exp(-t/τ_1) )\n",
    "J_2 = 1/E_2 * ( 1 - smp.exp(-t/τ_2) )\n",
    "\n",
    "J = J_0 + J_1 + J_2\n",
    "J.simplify()"
   ]
  },
  {
   "cell_type": "markdown",
   "id": "0f80103f-669e-405a-af90-40b284e82d2d",
   "metadata": {},
   "source": [
    "**Definice a dosazení materiálových parametrů**"
   ]
  },
  {
   "cell_type": "code",
   "execution_count": 104,
   "id": "8e86a922-7ee0-432d-8e18-3261f87c1a04",
   "metadata": {
    "tags": []
   },
   "outputs": [],
   "source": [
    "val_E_0 = 20 # GPa\n",
    "val_E_1 = 10 # GPa\n",
    "val_E_2 = 5  # GPa\n",
    "val_η_1 = 10 # GPa*den\n",
    "val_η_2 = 20 # GPa*den\n"
   ]
  },
  {
   "cell_type": "code",
   "execution_count": 105,
   "id": "42cef6af-de82-4209-a671-b6db010bde4e",
   "metadata": {
    "tags": []
   },
   "outputs": [
    {
     "data": {
      "text/latex": [
       "$\\displaystyle \\frac{7}{20} - \\frac{e^{- t}}{10} - \\frac{e^{- \\frac{t}{4}}}{5}$"
      ],
      "text/plain": [
       "7/20 - exp(-t)/10 - exp(-t/4)/5"
      ]
     },
     "execution_count": 105,
     "metadata": {},
     "output_type": "execute_result"
    }
   ],
   "source": [
    "J = J.subs([(E_0,val_E_0)])\n",
    "J = J.subs([(E_1,val_E_1), (η_1,val_η_1)])\n",
    "J = J.subs([(E_2,val_E_2), (η_2,val_η_2)])\n",
    "J.simplify()"
   ]
  },
  {
   "cell_type": "markdown",
   "id": "0f7c4a98-d4ff-427c-873d-812605209bb3",
   "metadata": {
    "tags": []
   },
   "source": [
    "**Vyhodnocení funkce poddajnosti pro okamžik zatížení a velmi dlouhou dobu zatížení**"
   ]
  },
  {
   "cell_type": "code",
   "execution_count": 106,
   "id": "f4f6d664-75df-4213-86f9-ff5913bd4709",
   "metadata": {
    "tags": []
   },
   "outputs": [
    {
     "data": {
      "text/markdown": [
       "Hodnota funkce poddajnosti ihned po vnesení zatížení $J_{init}$ je 0.050 GPa$^{-1}$<br>Hodnota funkce poddajnosti pro velmi dlouhou dobu trvání zatížení $J_{long}$ je 0.350 GPa$^{-1}$"
      ],
      "text/plain": [
       "<IPython.core.display.Markdown object>"
      ]
     },
     "execution_count": 106,
     "metadata": {},
     "output_type": "execute_result"
    }
   ],
   "source": [
    "J_init = J.subs([(t,0)])\n",
    "J_long = J.subs([(t,1e6)])\n",
    "\n",
    "\n",
    "md(\"Hodnota funkce poddajnosti ihned po vnesení zatížení $J_{init}$ je \" + f\"{J_init:.3f}\"  + \" GPa$^{-1}$<br>\" +\n",
    "\"Hodnota funkce poddajnosti pro velmi dlouhou dobu trvání zatížení $J_{long}$ je \" + f\"{J_long:.3f}\"  + \" GPa$^{-1}$\")\n"
   ]
  },
  {
   "cell_type": "markdown",
   "id": "19636533-ff07-4f64-8605-b5b194cc754b",
   "metadata": {
    "tags": []
   },
   "source": [
    "**Nalezení času, kdy se funkce poddajnosti rovná předepsané hodnotě**"
   ]
  },
  {
   "cell_type": "code",
   "execution_count": 107,
   "id": "1a88d736-819c-47e5-9378-455e089b7d80",
   "metadata": {
    "tags": []
   },
   "outputs": [
    {
     "data": {
      "text/markdown": [
       "Hodnoty funkce poddajnosti $J_{interest} =$ 0.200 GPa$^{-1}$ je dosaženo v čase $t_{interest} = $1.681 dní"
      ],
      "text/plain": [
       "<IPython.core.display.Markdown object>"
      ]
     },
     "execution_count": 107,
     "metadata": {},
     "output_type": "execute_result"
    }
   ],
   "source": [
    "J_interest = J_init + (J_long-J_init)/2. # GPa^-1\n",
    "\n",
    "t_interest = smp.solve(J-J_interest)[0]\n",
    "\n",
    "md(\"Hodnoty funkce poddajnosti $J_{interest} =$ \" + f\"{J_interest:.3f}\"  + \" GPa$^{-1}$ \" +\n",
    "   \"je dosaženo v čase $t_{interest} = $\" + f\"{t_interest:.3f} dní\")\n",
    "   "
   ]
  },
  {
   "cell_type": "markdown",
   "id": "84659de4-65e9-4602-9d29-0b576202c533",
   "metadata": {},
   "source": [
    "**Vývoj funkce poddajnosti**"
   ]
  },
  {
   "cell_type": "code",
   "execution_count": 182,
   "id": "3b1ea216-62a4-4388-bd96-99754944720f",
   "metadata": {
    "tags": []
   },
   "outputs": [
    {
     "data": {
      "image/png": "[encoded data removed]",
      "text/plain": [
       "<Figure size 1000x600 with 1 Axes>"
      ]
     },
     "metadata": {},
     "output_type": "display_data"
    }
   ],
   "source": [
    "# J_expr = smp.lambdify([t],J)\n",
    "\n",
    "t_num = np.logspace(-1,2,100)\n",
    "J_num = J_expr(t_num)\n",
    "\n",
    "#fig, ax = plt.subplots(figsize=(10,6))\n",
    "\n",
    "plt.figure(figsize=(10,6))\n",
    "plt.rcParams.update({'font.size': 14})\n",
    "\n",
    "plt.plot(t_num, J_num, lw=2., color=\"blue\", label=r'$J(t)$')\n",
    "\n",
    "x = float(t_interest)\n",
    "y = float(J.subs([(t,t_interest)]))\n",
    "plt.plot(x, y, 'o', color = 'red')\n",
    "\n",
    "# vertical line corresponding to characteristic (retardation) time\n",
    "plt.axvline(x = τ_1.subs([(E_1,val_E_1), (η_1,val_η_1)]), lw=1.5, color=\"blue\", linestyle = \"--\")\n",
    "plt.axvline(x = τ_2.subs([(E_2,val_E_2), (η_2,val_η_2)]), lw=1.5, color=\"blue\", linestyle = \"--\")\n",
    "\n",
    "\n",
    "plt.xscale('log')\n",
    "\n",
    "plt.grid(True)\n",
    "plt.legend()\n",
    "plt.xlabel('Délka trvání zatížení, $t-t\\'$ [den]')\n",
    "plt.ylabel('Poddajnost, $J$ [1/GPa]')\n",
    "\n",
    "plt.xlim((1e-1,1e2))\n",
    "plt.ylim((0,0.5))\n",
    "\n",
    "\n",
    "xt = x/2\n",
    "yt = 2*y\n",
    "\n",
    "plt.annotate('$J_{interest}$', xy=(x,y), xytext=(xt,yt), arrowprops=dict(arrowstyle='->'))\n",
    "\n",
    "#plt.arrow(x, y, dx, dy, width = 0.05)\n",
    "\n",
    "plt.savefig('Kelvin_chain_compliance_function.pdf')\n",
    "\n",
    "plt.show()\n"
   ]
  }
 ],
 "metadata": {
  "kernelspec": {
   "display_name": "Python 3 (ipykernel)",
   "language": "python",
   "name": "python3"
  },
  "language_info": {
   "codemirror_mode": {
    "name": "ipython",
    "version": 3
   },
   "file_extension": ".py",
   "mimetype": "text/x-python",
   "name": "python",
   "nbconvert_exporter": "python",
   "pygments_lexer": "ipython3",
   "version": "3.12.5"
  },
  "widgets": {
   "application/vnd.jupyter.widget-state+json": {
    "state": {},
    "version_major": 2,
    "version_minor": 0
   }
  }
 },
 "nbformat": 4,
 "nbformat_minor": 5
}
